{
  "nbformat": 4,
  "nbformat_minor": 0,
  "metadata": {
    "colab": {
      "name": "numpy and pandas and matplt.ipynb",
      "provenance": [],
      "toc_visible": true,
      "authorship_tag": "ABX9TyPqFmCA4ggY7lMgkmccal52",
      "include_colab_link": true
    },
    "kernelspec": {
      "name": "python3",
      "display_name": "Python 3"
    },
    "language_info": {
      "name": "python"
    }
  },
  "cells": [
    {
      "cell_type": "markdown",
      "metadata": {
        "id": "view-in-github",
        "colab_type": "text"
      },
      "source": [
        "<a href=\"https://colab.research.google.com/github/voidmain443/python_for_fast_learner/blob/master/01_numpy_pandas_for_math.ipynb\" target=\"_parent\"><img src=\"https://colab.research.google.com/assets/colab-badge.svg\" alt=\"Open In Colab\"/></a>"
      ]
    },
    {
      "cell_type": "markdown",
      "metadata": {
        "id": "taSQXtUQN-zJ"
      },
      "source": [
        "# numpy with find-a a team\n",
        "-----------------------\n",
        "like a hell party\n",
        "\n",
        "numpy array operations\n",
        "\n",
        "Working with multidimensional arrays  \n",
        "Indexing, slicing, reshaping, resizing, and broadcasting  \n",
        "Linear Algebra with NumPy  \n",
        "Vector and matrix mathematics  \n",
        "What's an eigenvalue and how do we compute it?  \n",
        "\n",
        "\n"
      ]
    },
    {
      "cell_type": "code",
      "metadata": {
        "id": "Pi4EkJIFNd4P"
      },
      "source": [
        "import numpy as np\n",
        "import matplotlib.pyplot as plt"
      ],
      "execution_count": 1,
      "outputs": []
    },
    {
      "cell_type": "markdown",
      "metadata": {
        "id": "ZMOkEiXNml3P"
      },
      "source": [
        "## creating arrays"
      ]
    },
    {
      "cell_type": "code",
      "metadata": {
        "id": "7X2mHh7gmh48"
      },
      "source": [
        "a1 =np.array([3,5,7,3])\n",
        "a2= np.zeros(10)\n",
        "a3 = np.ones(10)\n",
        "a4 = np.random.random(10) #0 ~1\n",
        "a5 = np.random.randn(10)# gausian normal distribution 0 1 \n",
        "a6 = np.linspace(0,10,100) #equaly space up \n",
        "a7 = np.arange(0,10,0.82) #0.82 is the space "
      ],
      "execution_count": 3,
      "outputs": []
    },
    {
      "cell_type": "markdown",
      "metadata": {
        "id": "Y0IUcSxBoDqJ"
      },
      "source": [
        "## array operations"
      ]
    },
    {
      "cell_type": "code",
      "metadata": {
        "colab": {
          "base_uri": "https://localhost:8080/"
        },
        "id": "MbXi9KQUmi8H",
        "outputId": "a50375cf-08c6-43cd-8436-55f13e7fdb8d"
      },
      "source": [
        "2*a1"
      ],
      "execution_count": 6,
      "outputs": [
        {
          "output_type": "execute_result",
          "data": {
            "text/plain": [
              "array([ 6, 10, 14,  6])"
            ]
          },
          "metadata": {},
          "execution_count": 6
        }
      ]
    },
    {
      "cell_type": "code",
      "metadata": {
        "colab": {
          "base_uri": "https://localhost:8080/"
        },
        "id": "T8UXnVmXqGNG",
        "outputId": "c7bbd9c9-fa90-4653-9af3-cdca3ba5d87c"
      },
      "source": [
        "1/a1"
      ],
      "execution_count": 7,
      "outputs": [
        {
          "output_type": "execute_result",
          "data": {
            "text/plain": [
              "array([0.33333333, 0.2       , 0.14285714, 0.33333333])"
            ]
          },
          "metadata": {},
          "execution_count": 7
        }
      ]
    },
    {
      "cell_type": "code",
      "metadata": {
        "colab": {
          "base_uri": "https://localhost:8080/"
        },
        "id": "SfHwT4HOqNFy",
        "outputId": "d08b704f-67d0-4bca-cdf4-3697862fa71a"
      },
      "source": [
        "a1>4"
      ],
      "execution_count": 9,
      "outputs": [
        {
          "output_type": "execute_result",
          "data": {
            "text/plain": [
              "array([False,  True,  True, False])"
            ]
          },
          "metadata": {},
          "execution_count": 9
        }
      ]
    },
    {
      "cell_type": "code",
      "metadata": {
        "colab": {
          "base_uri": "https://localhost:8080/",
          "height": 284
        },
        "id": "Nq9VIduErFZP",
        "outputId": "879ee3c3-05e3-4569-b431-29341219fcf9"
      },
      "source": [
        "x = np.linspace(0,1,100)\n",
        "y = x**2\n",
        "plt.plot(x,y)"
      ],
      "execution_count": 10,
      "outputs": [
        {
          "output_type": "execute_result",
          "data": {
            "text/plain": [
              "[<matplotlib.lines.Line2D at 0x7ffad2940dd0>]"
            ]
          },
          "metadata": {},
          "execution_count": 10
        },
        {
          "output_type": "display_data",
          "data": {
            "image/png": "[encoded data removed]",
            "text/plain": [
              "<Figure size 432x288 with 1 Axes>"
            ]
          },
          "metadata": {
            "needs_background": "light"
          }
        }
      ]
    },
    {
      "cell_type": "code",
      "metadata": {
        "colab": {
          "base_uri": "https://localhost:8080/",
          "height": 358
        },
        "id": "FSnKv2fDqp52",
        "outputId": "4ecc0852-38a3-41ff-c62e-86d8f3ec6bfd"
      },
      "source": [
        "plt.hist(a4)"
      ],
      "execution_count": 11,
      "outputs": [
        {
          "output_type": "execute_result",
          "data": {
            "text/plain": [
              "(array([2., 1., 0., 3., 0., 0., 0., 1., 1., 2.]),\n",
              " array([0.06911596, 0.14986021, 0.23060446, 0.31134871, 0.39209296,\n",
              "        0.47283721, 0.55358146, 0.63432571, 0.71506996, 0.7958142 ,\n",
              "        0.87655845]),\n",
              " <a list of 10 Patch objects>)"
            ]
          },
          "metadata": {},
          "execution_count": 11
        },
        {
          "output_type": "display_data",
          "data": {
            "image/png": "[encoded data removed]",
            "text/plain": [
              "<Figure size 432x288 with 1 Axes>"
            ]
          },
          "metadata": {
            "needs_background": "light"
          }
        }
      ]
    },
    {
      "cell_type": "code",
      "metadata": {
        "colab": {
          "base_uri": "https://localhost:8080/",
          "height": 295
        },
        "id": "I9-qHfRyti3A",
        "outputId": "72483900-abf2-41a2-99ce-178b5bc346a7"
      },
      "source": [
        "def f(x):\n",
        "  return x**2 * np.sin(x) / np.exp(-x)\n",
        "\n",
        "x = np.linspace(0,10, 1000)\n",
        "y = f(x)\n",
        "\n",
        "plt.plot(x,y)"
      ],
      "execution_count": 13,
      "outputs": [
        {
          "output_type": "execute_result",
          "data": {
            "text/plain": [
              "[<matplotlib.lines.Line2D at 0x7ffad1eabed0>]"
            ]
          },
          "metadata": {},
          "execution_count": 13
        },
        {
          "output_type": "display_data",
          "data": {
            "image/png": "[encoded data removed]",
            "text/plain": [
              "<Figure size 432x288 with 1 Axes>"
            ]
          },
          "metadata": {
            "needs_background": "light"
          }
        }
      ]
    },
    {
      "cell_type": "code",
      "metadata": {
        "id": "j4uyzNSXvllu"
      },
      "source": [
        "# https://numpy.org/doc/stable/reference/routines.math.html"
      ],
      "execution_count": 14,
      "outputs": []
    },
    {
      "cell_type": "code",
      "metadata": {
        "id": "J-FW6szBvmuu"
      },
      "source": [
        ""
      ],
      "execution_count": null,
      "outputs": []
    },
    {
      "cell_type": "markdown",
      "metadata": {
        "id": "vb229xY8mj-v"
      },
      "source": [
        "## array indexing/slicing"
      ]
    },
    {
      "cell_type": "code",
      "metadata": {
        "colab": {
          "base_uri": "https://localhost:8080/"
        },
        "id": "4BwLUQEFqC_P",
        "outputId": "07c703e6-ee13-448d-b161-4b0aa599148f"
      },
      "source": [
        "a1 = np.array([2,5,4,8,19])\n",
        "a1[2]"
      ],
      "execution_count": 15,
      "outputs": [
        {
          "output_type": "execute_result",
          "data": {
            "text/plain": [
              "4"
            ]
          },
          "metadata": {},
          "execution_count": 15
        }
      ]
    },
    {
      "cell_type": "code",
      "metadata": {
        "colab": {
          "base_uri": "https://localhost:8080/"
        },
        "id": "0sx7ei-rxCWf",
        "outputId": "5674a972-20f0-4940-9f31-adc8afd35ee5"
      },
      "source": [
        "a1[2:]"
      ],
      "execution_count": 16,
      "outputs": [
        {
          "output_type": "execute_result",
          "data": {
            "text/plain": [
              "array([ 4,  8, 19])"
            ]
          },
          "metadata": {},
          "execution_count": 16
        }
      ]
    },
    {
      "cell_type": "code",
      "metadata": {
        "colab": {
          "base_uri": "https://localhost:8080/"
        },
        "id": "EagyMCC2xEer",
        "outputId": "74d8d98d-7cb3-4dcd-9566-fdb196e39a1b"
      },
      "source": [
        "a1[:-2]"
      ],
      "execution_count": 17,
      "outputs": [
        {
          "output_type": "execute_result",
          "data": {
            "text/plain": [
              "array([2, 5, 4])"
            ]
          },
          "metadata": {},
          "execution_count": 17
        }
      ]
    },
    {
      "cell_type": "code",
      "metadata": {
        "colab": {
          "base_uri": "https://localhost:8080/"
        },
        "id": "yNflaVI2xGT7",
        "outputId": "e7a4979d-c03b-401f-b8de-5eff8a4a4493"
      },
      "source": [
        "a1[1:-2]"
      ],
      "execution_count": 18,
      "outputs": [
        {
          "output_type": "execute_result",
          "data": {
            "text/plain": [
              "array([5, 4])"
            ]
          },
          "metadata": {},
          "execution_count": 18
        }
      ]
    },
    {
      "cell_type": "code",
      "metadata": {
        "colab": {
          "base_uri": "https://localhost:8080/"
        },
        "id": "4_4O_TgTxerT",
        "outputId": "fbfdb4d9-b965-444a-9292-c5e066b56eec"
      },
      "source": [
        "a1>3"
      ],
      "execution_count": 19,
      "outputs": [
        {
          "output_type": "execute_result",
          "data": {
            "text/plain": [
              "array([False,  True,  True,  True,  True])"
            ]
          },
          "metadata": {},
          "execution_count": 19
        }
      ]
    },
    {
      "cell_type": "code",
      "metadata": {
        "colab": {
          "base_uri": "https://localhost:8080/"
        },
        "id": "a8r6v_7Qxgn5",
        "outputId": "2ac91123-9517-4cda-e4e2-d7e5121f74e6"
      },
      "source": [
        "a1[a1>3]"
      ],
      "execution_count": 21,
      "outputs": [
        {
          "output_type": "execute_result",
          "data": {
            "text/plain": [
              "array([ 5,  4,  8, 19])"
            ]
          },
          "metadata": {},
          "execution_count": 21
        }
      ]
    },
    {
      "cell_type": "code",
      "metadata": {
        "id": "9QXoEgUrxodA"
      },
      "source": [
        "names = np.array(['parkjunha','jongsung','siyun','leesonghwan','yoondohoung'])\n",
        "first_letter_s = np.vectorize(lambda s: s[0])(names)=='s'"
      ],
      "execution_count": 24,
      "outputs": []
    },
    {
      "cell_type": "code",
      "metadata": {
        "colab": {
          "base_uri": "https://localhost:8080/"
        },
        "id": "Ie5bOfDxz4Cy",
        "outputId": "0cc5232f-0f31-44fc-bc96-73d350b779d2"
      },
      "source": [
        "np.vectorize(lambda s: s[0])(names)"
      ],
      "execution_count": 27,
      "outputs": [
        {
          "output_type": "execute_result",
          "data": {
            "text/plain": [
              "array(['p', 'j', 's', 'l', 'y'], dtype='<U1')"
            ]
          },
          "metadata": {},
          "execution_count": 27
        }
      ]
    },
    {
      "cell_type": "code",
      "metadata": {
        "colab": {
          "base_uri": "https://localhost:8080/",
          "height": 36
        },
        "id": "7P9Ie32j0cjk",
        "outputId": "373d9e48-411f-4b59-c485-11d0eed29060"
      },
      "source": [
        "f = lambda s: s[0]\n",
        "f('parkjunha')"
      ],
      "execution_count": 28,
      "outputs": [
        {
          "output_type": "execute_result",
          "data": {
            "application/vnd.google.colaboratory.intrinsic+json": {
              "type": "string"
            },
            "text/plain": [
              "'p'"
            ]
          },
          "metadata": {},
          "execution_count": 28
        }
      ]
    },
    {
      "cell_type": "code",
      "metadata": {
        "colab": {
          "base_uri": "https://localhost:8080/"
        },
        "id": "X2PKFZLA06j_",
        "outputId": "1c3f39d3-3805-4358-8fe0-ba1379bc1145"
      },
      "source": [
        "names[first_letter_s]"
      ],
      "execution_count": 29,
      "outputs": [
        {
          "output_type": "execute_result",
          "data": {
            "text/plain": [
              "array(['siyun'], dtype='<U11')"
            ]
          },
          "metadata": {},
          "execution_count": 29
        }
      ]
    },
    {
      "cell_type": "code",
      "metadata": {
        "colab": {
          "base_uri": "https://localhost:8080/"
        },
        "id": "Fmq0Jre51KO6",
        "outputId": "a9b22a33-f1e9-4bc7-ea70-84456eee8085"
      },
      "source": [
        "a1[a1%4 == 0 ]"
      ],
      "execution_count": 32,
      "outputs": [
        {
          "output_type": "execute_result",
          "data": {
            "text/plain": [
              "array([4, 8])"
            ]
          },
          "metadata": {},
          "execution_count": 32
        }
      ]
    },
    {
      "cell_type": "markdown",
      "metadata": {
        "id": "mn87SZF31gR8"
      },
      "source": [
        ""
      ]
    },
    {
      "cell_type": "code",
      "metadata": {
        "id": "hVToB4OW1Rna"
      },
      "source": [
        "a1 = 2*np.random.randn(10000) + 10 # 2 mean std 2 n"
      ],
      "execution_count": 34,
      "outputs": []
    },
    {
      "cell_type": "code",
      "metadata": {
        "colab": {
          "base_uri": "https://localhost:8080/"
        },
        "id": "D_JlwYhB1yxq",
        "outputId": "3067a308-3ce6-4dd1-ff58-eb8ba97c3fb6"
      },
      "source": [
        "np.mean(a1)"
      ],
      "execution_count": 35,
      "outputs": [
        {
          "output_type": "execute_result",
          "data": {
            "text/plain": [
              "10.025181508753294"
            ]
          },
          "metadata": {},
          "execution_count": 35
        }
      ]
    },
    {
      "cell_type": "code",
      "metadata": {
        "colab": {
          "base_uri": "https://localhost:8080/"
        },
        "id": "i67au6k714pq",
        "outputId": "10fd883c-ebdf-408a-a9c0-e297964ff588"
      },
      "source": [
        "np.std(a1)"
      ],
      "execution_count": 36,
      "outputs": [
        {
          "output_type": "execute_result",
          "data": {
            "text/plain": [
              "2.028080821086119"
            ]
          },
          "metadata": {},
          "execution_count": 36
        }
      ]
    },
    {
      "cell_type": "code",
      "metadata": {
        "colab": {
          "base_uri": "https://localhost:8080/"
        },
        "id": "tIfbEdM017j1",
        "outputId": "8444b1d0-52c3-40a7-9bfa-8faf0496238b"
      },
      "source": [
        "np.percentile(a1 ,80) # 11.74 is the 80 persent of the -~80% of \n"
      ],
      "execution_count": 39,
      "outputs": [
        {
          "output_type": "execute_result",
          "data": {
            "text/plain": [
              "11.742035351615986"
            ]
          },
          "metadata": {},
          "execution_count": 39
        }
      ]
    },
    {
      "cell_type": "code",
      "metadata": {
        "colab": {
          "base_uri": "https://localhost:8080/",
          "height": 284
        },
        "id": "U7pGmcep2FF8",
        "outputId": "52938909-2fd3-4ea0-ad60-19eeea5b7f20"
      },
      "source": [
        "# scipy sympy numpy \n",
        "x = np.linspace(1,10,100)\n",
        "y = 1/x**2 + np.sin(x)\n",
        "plt.plot(x,y)"
      ],
      "execution_count": 42,
      "outputs": [
        {
          "output_type": "execute_result",
          "data": {
            "text/plain": [
              "[<matplotlib.lines.Line2D at 0x7ffad2451310>]"
            ]
          },
          "metadata": {},
          "execution_count": 42
        },
        {
          "output_type": "display_data",
          "data": {
            "image/png": "[encoded data removed]",
            "text/plain": [
              "<Figure size 432x288 with 1 Axes>"
            ]
          },
          "metadata": {
            "needs_background": "light"
          }
        }
      ]
    },
    {
      "cell_type": "code",
      "metadata": {
        "colab": {
          "base_uri": "https://localhost:8080/",
          "height": 284
        },
        "id": "eYB-2NMM3_NS",
        "outputId": "70704afe-e25b-4b28-f04e-2702b2e0e357"
      },
      "source": [
        "y = 1/x**2 * np.sin(x)\n",
        "plt.plot(x,y)"
      ],
      "execution_count": 44,
      "outputs": [
        {
          "output_type": "execute_result",
          "data": {
            "text/plain": [
              "[<matplotlib.lines.Line2D at 0x7ffad1d8eb10>]"
            ]
          },
          "metadata": {},
          "execution_count": 44
        },
        {
          "output_type": "display_data",
          "data": {
            "image/png": "[encoded data removed]",
            "text/plain": [
              "<Figure size 432x288 with 1 Axes>"
            ]
          },
          "metadata": {
            "needs_background": "light"
          }
        }
      ]
    },
    {
      "cell_type": "code",
      "metadata": {
        "colab": {
          "base_uri": "https://localhost:8080/",
          "height": 284
        },
        "id": "Esjtud8E4NAc",
        "outputId": "c0f5f69d-08df-4e3e-ed78-df9bef7b241e"
      },
      "source": [
        "x = np.linspace(1,10,100)\n",
        "y = 1/x**2 * np.sin(x)\n",
        "dydx = np.gradient(y,x)\n",
        "plt.plot(x,y)\n",
        "plt.plot(x,dydx)"
      ],
      "execution_count": 45,
      "outputs": [
        {
          "output_type": "execute_result",
          "data": {
            "text/plain": [
              "[<matplotlib.lines.Line2D at 0x7ffad1c53510>]"
            ]
          },
          "metadata": {},
          "execution_count": 45
        },
        {
          "output_type": "display_data",
          "data": {
            "image/png": "[encoded data removed]",
            "text/plain": [
              "<Figure size 432x288 with 1 Axes>"
            ]
          },
          "metadata": {
            "needs_background": "light"
          }
        }
      ]
    },
    {
      "cell_type": "code",
      "metadata": {
        "colab": {
          "base_uri": "https://localhost:8080/",
          "height": 284
        },
        "id": "pOdESemW4ty3",
        "outputId": "7af860c1-c509-4f1a-9a92-7cb064f2338e"
      },
      "source": [
        "x = np.linspace(1,10,100)\n",
        "y = 1/x**2 * np.sin(x)\n",
        "dydx = np.gradient(y,x)\n",
        "y_integral = np.cumsum(y* (x[1]-x[0])) # integral fomula y* dx(x1- x0)\n",
        "plt.plot(x,y)\n",
        "plt.plot(x,dydx)\n",
        "plt.plot(x,y_integral)"
      ],
      "execution_count": 49,
      "outputs": [
        {
          "output_type": "execute_result",
          "data": {
            "text/plain": [
              "[<matplotlib.lines.Line2D at 0x7ffad1ade450>]"
            ]
          },
          "metadata": {},
          "execution_count": 49
        },
        {
          "output_type": "display_data",
          "data": {
            "image/png": "[encoded data removed]",
            "text/plain": [
              "<Figure size 432x288 with 1 Axes>"
            ]
          },
          "metadata": {
            "needs_background": "light"
          }
        }
      ]
    },
    {
      "cell_type": "code",
      "metadata": {
        "colab": {
          "base_uri": "https://localhost:8080/"
        },
        "id": "KqffuzNQ5IuP",
        "outputId": "cd45243c-7331-497f-b67a-79c7b9ff3682"
      },
      "source": [
        "np.cumsum(np.array([1,2,3,4]))"
      ],
      "execution_count": 50,
      "outputs": [
        {
          "output_type": "execute_result",
          "data": {
            "text/plain": [
              "array([ 1,  3,  6, 10])"
            ]
          },
          "metadata": {},
          "execution_count": 50
        }
      ]
    },
    {
      "cell_type": "markdown",
      "metadata": {
        "id": "lK19BH0m6EtQ"
      },
      "source": [
        "### 실습 문제 1:  \n",
        "$y = exp^{-x/10}sin(x)$\n",
        "\n",
        " consider 10000 x intervals in the range [0,10]\n",
        "\n",
        "### try:\n",
        "\n",
        "1. plot the function y vers x  in the range [0,10]\n",
        "\n",
        "\n",
        "2. compute the mean and std of y for x values in [4,7]\n",
        "\n",
        "\n",
        "3. for x in the range [4,7],find the value $y_{m}$ such that 95% of y values are less than $y_{m}$ \n",
        "\n",
        "\n",
        "4. plot $dy/dx$ vers $x$\n",
        "\n",
        "5. find the locations where $dy/dx =0 $\n"
      ]
    },
    {
      "cell_type": "code",
      "metadata": {
        "colab": {
          "base_uri": "https://localhost:8080/",
          "height": 284
        },
        "id": "PM18m6KM5MJs",
        "outputId": "bebc60d8-0b7f-40a7-dc2d-9dace381f4a0"
      },
      "source": [
        "N = 10000\n",
        "x= np.linspace(0,10,N+1)\n",
        "y = np.exp(-x/10) * np.sin(x)\n",
        "plt.plot(x,y)"
      ],
      "execution_count": 54,
      "outputs": [
        {
          "output_type": "execute_result",
          "data": {
            "text/plain": [
              "[<matplotlib.lines.Line2D at 0x7ffad1a14850>]"
            ]
          },
          "metadata": {},
          "execution_count": 54
        },
        {
          "output_type": "display_data",
          "data": {
            "image/png": "[encoded data removed]",
            "text/plain": [
              "<Figure size 432x288 with 1 Axes>"
            ]
          },
          "metadata": {
            "needs_background": "light"
          }
        }
      ]
    },
    {
      "cell_type": "code",
      "metadata": {
        "colab": {
          "base_uri": "https://localhost:8080/"
        },
        "id": "GFjtBAh58eeA",
        "outputId": "4f68e237-c853-4c7e-80fd-4bfc22eb8639"
      },
      "source": [
        "np.mean( y[(x>=4)*(x<=7)])\n",
        "np.std(y[(x>=4)*(x<=7)])"
      ],
      "execution_count": 56,
      "outputs": [
        {
          "output_type": "execute_result",
          "data": {
            "text/plain": [
              "0.31448753875085117"
            ]
          },
          "metadata": {},
          "execution_count": 56
        }
      ]
    },
    {
      "cell_type": "code",
      "metadata": {
        "colab": {
          "base_uri": "https://localhost:8080/"
        },
        "id": "J9uKqQrZ-ZAO",
        "outputId": "4b8beb83-66fb-447d-e4e0-826be92cff58"
      },
      "source": [
        "#3\n",
        "np.percentile(y[(x>=4)*(x<=7)],95)"
      ],
      "execution_count": 57,
      "outputs": [
        {
          "output_type": "execute_result",
          "data": {
            "text/plain": [
              "0.2706700401876704"
            ]
          },
          "metadata": {},
          "execution_count": 57
        }
      ]
    },
    {
      "cell_type": "code",
      "metadata": {
        "colab": {
          "base_uri": "https://localhost:8080/",
          "height": 284
        },
        "id": "C8NeQFKE_e27",
        "outputId": "b40a52a2-ce52-4b0e-91cf-628f4fae6a27"
      },
      "source": [
        "#4\n",
        "plt.plot(x, np.gradient(y,x))"
      ],
      "execution_count": 58,
      "outputs": [
        {
          "output_type": "execute_result",
          "data": {
            "text/plain": [
              "[<matplotlib.lines.Line2D at 0x7ffad1b23dd0>]"
            ]
          },
          "metadata": {},
          "execution_count": 58
        },
        {
          "output_type": "display_data",
          "data": {
            "image/png": "[encoded data removed]",
            "text/plain": [
              "<Figure size 432x288 with 1 Axes>"
            ]
          },
          "metadata": {
            "needs_background": "light"
          }
        }
      ]
    },
    {
      "cell_type": "code",
      "metadata": {
        "id": "-pCDRy39_698"
      },
      "source": [
        "#5\n",
        "dydx = np.gradient(y,x)\n"
      ],
      "execution_count": 59,
      "outputs": []
    },
    {
      "cell_type": "code",
      "metadata": {
        "colab": {
          "base_uri": "https://localhost:8080/"
        },
        "id": "2DVaotmQDLJY",
        "outputId": "046ee251-fa35-4239-bdf8-2c1c78938498"
      },
      "source": [
        "dydx[1:] * dydx[:-1]<0\n",
        "#0*1 1*2 2*3 ... n*n (one is - 0 , one is - n) it * with  n*n+1 value to find the -  to + and + to - "
      ],
      "execution_count": 61,
      "outputs": [
        {
          "output_type": "execute_result",
          "data": {
            "text/plain": [
              "array([False, False, False, ..., False, False, False])"
            ]
          },
          "metadata": {},
          "execution_count": 61
        }
      ]
    },
    {
      "cell_type": "code",
      "metadata": {
        "colab": {
          "base_uri": "https://localhost:8080/"
        },
        "id": "Tx6TajfVD12j",
        "outputId": "4b31113c-de5e-42f1-e6f4-72bf8465e29c"
      },
      "source": [
        "x[1:][dydx[1:] * dydx[:-1]<0]"
      ],
      "execution_count": 66,
      "outputs": [
        {
          "output_type": "execute_result",
          "data": {
            "text/plain": [
              "array([1.472, 4.613, 7.755])"
            ]
          },
          "metadata": {},
          "execution_count": 66
        }
      ]
    },
    {
      "cell_type": "code",
      "metadata": {
        "colab": {
          "base_uri": "https://localhost:8080/",
          "height": 339
        },
        "id": "4cM0bkzdHS3c",
        "outputId": "21ca5361-63e8-443c-8f0c-20b967a5408a"
      },
      "source": [
        "plt.plot(x,y)\n",
        "plt.plot(x, np.gradient(y,x))\n",
        "plt.hist(x[1:][dydx[1:] * dydx[:-1]<0])"
      ],
      "execution_count": 74,
      "outputs": [
        {
          "output_type": "execute_result",
          "data": {
            "text/plain": [
              "(array([1., 0., 0., 0., 1., 0., 0., 0., 0., 1.]),\n",
              " array([1.472 , 2.1003, 2.7286, 3.3569, 3.9852, 4.6135, 5.2418, 5.8701,\n",
              "        6.4984, 7.1267, 7.755 ]),\n",
              " <a list of 10 Patch objects>)"
            ]
          },
          "metadata": {},
          "execution_count": 74
        },
        {
          "output_type": "display_data",
          "data": {
            "image/png": "[encoded data removed]",
            "text/plain": [
              "<Figure size 432x288 with 1 Axes>"
            ]
          },
          "metadata": {
            "needs_background": "light"
          }
        }
      ]
    },
    {
      "cell_type": "markdown",
      "metadata": {
        "id": "CuPfo2qgHPj0"
      },
      "source": [
        "# 실습문제 2:\n",
        "\n",
        "sum together every number from 0 to 10000 except for those than can be divided by 4 or 7 . Do this \n",
        "one line \n"
      ]
    },
    {
      "cell_type": "code",
      "metadata": {
        "colab": {
          "base_uri": "https://localhost:8080/"
        },
        "id": "5osEDFW2DVSu",
        "outputId": "838d3284-995e-4dd5-9007-d298bda89c15"
      },
      "source": [
        "nums = np.arange(0,10001,1)\n",
        "sum(nums[(nums%4  != 0) * (nums%7  != 0)])"
      ],
      "execution_count": 101,
      "outputs": [
        {
          "output_type": "execute_result",
          "data": {
            "text/plain": [
              "32147142"
            ]
          },
          "metadata": {},
          "execution_count": 101
        }
      ]
    },
    {
      "cell_type": "markdown",
      "metadata": {
        "id": "R9HZsHvOQKdp"
      },
      "source": [
        "# 실습문제 3\n",
        "Polar coordinate system\n",
        "\n",
        "consider the flower petal $r(\\theta) = 1 + 3/4sin(3\\theta)$ for $0 \\leq \\theta \\leq 2\\pi$\n",
        "\n",
        "1. make a plot of the flower (xy point)\n",
        "2. compute the area using the calculus formula $A = \\int_{0}^{2\\pi}\\frac{1}{2}r^{2}d\\theta$ \n",
        "3. compute the arclength using the calculus formula $L = \\int_{0}^{2\\pi}\\sqrt{r^{2}+(\\frac{dr}{d\\theta})^{2}}d\\theta$"
      ]
    },
    {
      "cell_type": "code",
      "metadata": {
        "colab": {
          "base_uri": "https://localhost:8080/",
          "height": 284
        },
        "id": "pUvaUtQmQIo5",
        "outputId": "081aabcc-adfb-466c-9876-c07ca817969a"
      },
      "source": [
        "#1 \n",
        "theta = np.linspace(0,2*np.pi,1000)\n",
        "r = 1+ 3/4 * np.sin(3*theta)\n",
        "# plot polar coordinate system to cartesian coordinate\n",
        "x = r*np.cos(theta)\n",
        "y = r* np.sin(theta)\n",
        "plt.plot(x,y)\n"
      ],
      "execution_count": 102,
      "outputs": [
        {
          "output_type": "execute_result",
          "data": {
            "text/plain": [
              "[<matplotlib.lines.Line2D at 0x7ffad098d590>]"
            ]
          },
          "metadata": {},
          "execution_count": 102
        },
        {
          "output_type": "display_data",
          "data": {
            "image/png": "[encoded data removed]",
            "text/plain": [
              "<Figure size 432x288 with 1 Axes>"
            ]
          },
          "metadata": {
            "needs_background": "light"
          }
        }
      ]
    },
    {
      "cell_type": "code",
      "metadata": {
        "colab": {
          "base_uri": "https://localhost:8080/"
        },
        "id": "0jrTxugtG8DY",
        "outputId": "9758e94d-afed-4bc7-8290-eaebc9d1d7c6"
      },
      "source": [
        "A = 1/2 * sum(r**2) * (theta[1]-theta[0])\n",
        "A"
      ],
      "execution_count": 104,
      "outputs": [
        {
          "output_type": "execute_result",
          "data": {
            "text/plain": [
              "4.028310324802908"
            ]
          },
          "metadata": {},
          "execution_count": 104
        }
      ]
    },
    {
      "cell_type": "code",
      "metadata": {
        "id": "5pCVjTlQpki5"
      },
      "source": [
        ""
      ],
      "execution_count": 103,
      "outputs": []
    },
    {
      "cell_type": "code",
      "metadata": {
        "id": "5T7VBlU3plId"
      },
      "source": [
        ""
      ],
      "execution_count": 103,
      "outputs": []
    },
    {
      "cell_type": "code",
      "metadata": {
        "id": "7xH8h5WQplLj"
      },
      "source": [
        ""
      ],
      "execution_count": 103,
      "outputs": []
    },
    {
      "cell_type": "code",
      "metadata": {
        "id": "aMG5GmsIplPE"
      },
      "source": [
        ""
      ],
      "execution_count": 103,
      "outputs": []
    },
    {
      "cell_type": "code",
      "metadata": {
        "id": "Zl92-vxzplSU"
      },
      "source": [
        ""
      ],
      "execution_count": 103,
      "outputs": []
    },
    {
      "cell_type": "code",
      "metadata": {
        "id": "UvAlpJxHplVL"
      },
      "source": [
        ""
      ],
      "execution_count": 103,
      "outputs": []
    },
    {
      "cell_type": "code",
      "metadata": {
        "id": "IAwMuyTkplYd"
      },
      "source": [
        ""
      ],
      "execution_count": null,
      "outputs": []
    },
    {
      "cell_type": "markdown",
      "metadata": {
        "id": "Kw__uo5PKTm9"
      },
      "source": [
        "#pandas 1.0\n"
      ]
    },
    {
      "cell_type": "code",
      "metadata": {
        "colab": {
          "base_uri": "https://localhost:8080/"
        },
        "id": "qJ2UVX_BKVwZ",
        "outputId": "fb862763-0eab-45b1-d20a-4580b959892e"
      },
      "source": [
        "pip install pandas"
      ],
      "execution_count": 75,
      "outputs": [
        {
          "output_type": "stream",
          "name": "stdout",
          "text": [
            "Requirement already satisfied: pandas in /usr/local/lib/python3.7/dist-packages (1.1.5)\n",
            "Requirement already satisfied: numpy>=1.15.4 in /usr/local/lib/python3.7/dist-packages (from pandas) (1.19.5)\n",
            "Requirement already satisfied: pytz>=2017.2 in /usr/local/lib/python3.7/dist-packages (from pandas) (2018.9)\n",
            "Requirement already satisfied: python-dateutil>=2.7.3 in /usr/local/lib/python3.7/dist-packages (from pandas) (2.8.2)\n",
            "Requirement already satisfied: six>=1.5 in /usr/local/lib/python3.7/dist-packages (from python-dateutil>=2.7.3->pandas) (1.15.0)\n"
          ]
        }
      ]
    },
    {
      "cell_type": "code",
      "metadata": {
        "colab": {
          "base_uri": "https://localhost:8080/"
        },
        "id": "DUJgbOe8KXBL",
        "outputId": "67258862-f678-4d3b-9d02-3c6854c2bfee"
      },
      "source": [
        "import sys\n",
        "print(sys.version)"
      ],
      "execution_count": 76,
      "outputs": [
        {
          "output_type": "stream",
          "name": "stdout",
          "text": [
            "3.7.11 (default, Jul  3 2021, 18:01:19) \n",
            "[GCC 7.5.0]\n"
          ]
        }
      ]
    },
    {
      "cell_type": "code",
      "metadata": {
        "colab": {
          "base_uri": "https://localhost:8080/"
        },
        "id": "rSsqMYCmKb8R",
        "outputId": "fa33f527-1a4c-4644-ce99-0254f630b0b6"
      },
      "source": [
        "import pandas as pd \n",
        "print(pd.__version__)"
      ],
      "execution_count": 77,
      "outputs": [
        {
          "output_type": "stream",
          "name": "stdout",
          "text": [
            "1.1.5\n"
          ]
        }
      ]
    },
    {
      "cell_type": "markdown",
      "metadata": {
        "id": "0lFWvax4LMQO"
      },
      "source": [
        "kaggle train data set 받아오기 \n",
        "\n",
        "\n",
        "https://www.kaggle.com/c/titanic/data?select=train.csv\n"
      ]
    },
    {
      "cell_type": "code",
      "metadata": {
        "colab": {
          "base_uri": "https://localhost:8080/"
        },
        "id": "VjEZRdBkKiSK",
        "outputId": "03566c4c-4fa6-49dc-b4cb-d8201c1ba5f6"
      },
      "source": [
        "dft =pd.read_csv('train.csv')\n",
        "dft.info()"
      ],
      "execution_count": 82,
      "outputs": [
        {
          "output_type": "stream",
          "name": "stdout",
          "text": [
            "<class 'pandas.core.frame.DataFrame'>\n",
            "RangeIndex: 891 entries, 0 to 890\n",
            "Data columns (total 12 columns):\n",
            " #   Column       Non-Null Count  Dtype  \n",
            "---  ------       --------------  -----  \n",
            " 0   PassengerId  891 non-null    int64  \n",
            " 1   Survived     891 non-null    int64  \n",
            " 2   Pclass       891 non-null    int64  \n",
            " 3   Name         891 non-null    object \n",
            " 4   Sex          891 non-null    object \n",
            " 5   Age          714 non-null    float64\n",
            " 6   SibSp        891 non-null    int64  \n",
            " 7   Parch        891 non-null    int64  \n",
            " 8   Ticket       891 non-null    object \n",
            " 9   Fare         891 non-null    float64\n",
            " 10  Cabin        204 non-null    object \n",
            " 11  Embarked     889 non-null    object \n",
            "dtypes: float64(2), int64(5), object(5)\n",
            "memory usage: 83.7+ KB\n"
          ]
        }
      ]
    },
    {
      "cell_type": "code",
      "metadata": {
        "colab": {
          "base_uri": "https://localhost:8080/"
        },
        "id": "as455voNLYCT",
        "outputId": "74fb419d-8978-4889-aa88-9b8f8b2f59bd"
      },
      "source": [
        "print(dft.head(3))"
      ],
      "execution_count": 85,
      "outputs": [
        {
          "output_type": "stream",
          "name": "stdout",
          "text": [
            "   PassengerId  Survived  Pclass  ...     Fare Cabin  Embarked\n",
            "0            1         0       3  ...   7.2500   NaN         S\n",
            "1            2         1       1  ...  71.2833   C85         C\n",
            "2            3         1       3  ...   7.9250   NaN         S\n",
            "\n",
            "[3 rows x 12 columns]\n"
          ]
        }
      ]
    },
    {
      "cell_type": "code",
      "metadata": {
        "colab": {
          "base_uri": "https://localhost:8080/"
        },
        "id": "kPMqgj58Mgab",
        "outputId": "830b3435-ec89-430b-9c7c-b6e2fde0ddda"
      },
      "source": [
        "print(dft.head(3).to_markdown())"
      ],
      "execution_count": 86,
      "outputs": [
        {
          "output_type": "stream",
          "name": "stdout",
          "text": [
            "|    |   PassengerId |   Survived |   Pclass | Name                                                | Sex    |   Age |   SibSp |   Parch | Ticket           |    Fare | Cabin   | Embarked   |\n",
            "|---:|--------------:|-----------:|---------:|:----------------------------------------------------|:-------|------:|--------:|--------:|:-----------------|--------:|:--------|:-----------|\n",
            "|  0 |             1 |          0 |        3 | Braund, Mr. Owen Harris                             | male   |    22 |       1 |       0 | A/5 21171        |  7.25   | nan     | S          |\n",
            "|  1 |             2 |          1 |        1 | Cumings, Mrs. John Bradley (Florence Briggs Thayer) | female |    38 |       1 |       0 | PC 17599         | 71.2833 | C85     | C          |\n",
            "|  2 |             3 |          1 |        3 | Heikkinen, Miss. Laina                              | female |    26 |       0 |       0 | STON/O2. 3101282 |  7.925  | nan     | S          |\n"
          ]
        }
      ]
    },
    {
      "cell_type": "code",
      "metadata": {
        "colab": {
          "base_uri": "https://localhost:8080/"
        },
        "id": "81XCln4PMr0v",
        "outputId": "f8682fd0-6543-4552-9620-4aa0aabc6e89"
      },
      "source": [
        "s = pd.Series([1, 2, None])\n",
        "print(s)"
      ],
      "execution_count": 87,
      "outputs": [
        {
          "output_type": "stream",
          "name": "stdout",
          "text": [
            "0    1.0\n",
            "1    2.0\n",
            "2    NaN\n",
            "dtype: float64\n"
          ]
        }
      ]
    },
    {
      "cell_type": "code",
      "metadata": {
        "colab": {
          "base_uri": "https://localhost:8080/"
        },
        "id": "8YXibkhqMz8o",
        "outputId": "9cde148a-5d3f-44f0-c0db-887dccf828a2"
      },
      "source": [
        "s = pd.Series([1, 2, None], dtype='Int64')\n",
        "print(s)"
      ],
      "execution_count": 88,
      "outputs": [
        {
          "output_type": "stream",
          "name": "stdout",
          "text": [
            "0       1\n",
            "1       2\n",
            "2    <NA>\n",
            "dtype: Int64\n"
          ]
        }
      ]
    },
    {
      "cell_type": "code",
      "metadata": {
        "colab": {
          "base_uri": "https://localhost:8080/",
          "height": 249
        },
        "id": "IqlpxIv0M5n9",
        "outputId": "5358ad13-eaf4-4d2a-a373-8d944c76a6a8"
      },
      "source": [
        "for i in range(3):\n",
        "  if s.iloc[i] == pd.NA:\n",
        "    print('NA found!')\n",
        "#지원안함"
      ],
      "execution_count": 89,
      "outputs": [
        {
          "output_type": "error",
          "ename": "TypeError",
          "evalue": "ignored",
          "traceback": [
            "\u001b[0;31m---------------------------------------------------------------------------\u001b[0m",
            "\u001b[0;31mTypeError\u001b[0m                                 Traceback (most recent call last)",
            "\u001b[0;32m<ipython-input-89-f03a14991a51>\u001b[0m in \u001b[0;36m<module>\u001b[0;34m()\u001b[0m\n\u001b[1;32m      1\u001b[0m \u001b[0;32mfor\u001b[0m \u001b[0mi\u001b[0m \u001b[0;32min\u001b[0m \u001b[0mrange\u001b[0m\u001b[0;34m(\u001b[0m\u001b[0;36m3\u001b[0m\u001b[0;34m)\u001b[0m\u001b[0;34m:\u001b[0m\u001b[0;34m\u001b[0m\u001b[0;34m\u001b[0m\u001b[0m\n\u001b[0;32m----> 2\u001b[0;31m   \u001b[0;32mif\u001b[0m \u001b[0ms\u001b[0m\u001b[0;34m.\u001b[0m\u001b[0miloc\u001b[0m\u001b[0;34m[\u001b[0m\u001b[0mi\u001b[0m\u001b[0;34m]\u001b[0m \u001b[0;34m==\u001b[0m \u001b[0mpd\u001b[0m\u001b[0;34m.\u001b[0m\u001b[0mNA\u001b[0m\u001b[0;34m:\u001b[0m\u001b[0;34m\u001b[0m\u001b[0;34m\u001b[0m\u001b[0m\n\u001b[0m\u001b[1;32m      3\u001b[0m     \u001b[0mprint\u001b[0m\u001b[0;34m(\u001b[0m\u001b[0;34m'NA found!'\u001b[0m\u001b[0;34m)\u001b[0m\u001b[0;34m\u001b[0m\u001b[0;34m\u001b[0m\u001b[0m\n",
            "\u001b[0;32mpandas/_libs/missing.pyx\u001b[0m in \u001b[0;36mpandas._libs.missing.NAType.__bool__\u001b[0;34m()\u001b[0m\n",
            "\u001b[0;31mTypeError\u001b[0m: boolean value of NA is ambiguous"
          ]
        }
      ]
    },
    {
      "cell_type": "code",
      "metadata": {
        "colab": {
          "base_uri": "https://localhost:8080/"
        },
        "id": "Ie7OQhikM9PH",
        "outputId": "5ba60655-e297-4b24-e1d5-4aa0ae37d271"
      },
      "source": [
        "if s.isna().any():\n",
        "  print('NA found!')"
      ],
      "execution_count": 90,
      "outputs": [
        {
          "output_type": "stream",
          "name": "stdout",
          "text": [
            "NA found!\n"
          ]
        }
      ]
    },
    {
      "cell_type": "code",
      "metadata": {
        "colab": {
          "base_uri": "https://localhost:8080/"
        },
        "id": "-YPpOkGONA5p",
        "outputId": "02cb8bc6-85b3-4f68-8183-692a6b9df994"
      },
      "source": [
        "s = pd.Series([True, False, np.nan])\n",
        "print(s)"
      ],
      "execution_count": 91,
      "outputs": [
        {
          "output_type": "stream",
          "name": "stdout",
          "text": [
            "0     True\n",
            "1    False\n",
            "2      NaN\n",
            "dtype: object\n"
          ]
        }
      ]
    },
    {
      "cell_type": "code",
      "metadata": {
        "colab": {
          "base_uri": "https://localhost:8080/"
        },
        "id": "6Xu2Mvv9NUaa",
        "outputId": "ab8d753c-8c2e-4dae-f05b-e708f9266966"
      },
      "source": [
        "s = pd.Series([True, False, np.nan], dtype='boolean')\n",
        "print(s)"
      ],
      "execution_count": 92,
      "outputs": [
        {
          "output_type": "stream",
          "name": "stdout",
          "text": [
            "0     True\n",
            "1    False\n",
            "2     <NA>\n",
            "dtype: boolean\n"
          ]
        }
      ]
    },
    {
      "cell_type": "code",
      "metadata": {
        "colab": {
          "base_uri": "https://localhost:8080/"
        },
        "id": "T1HcWqC2NWPW",
        "outputId": "f1a2f0d6-97cb-49c2-fcb0-33e8cb6c3940"
      },
      "source": [
        "\n",
        "s = pd.Series(['abc', None, 'def'])\n",
        "print(s)"
      ],
      "execution_count": 93,
      "outputs": [
        {
          "output_type": "stream",
          "name": "stdout",
          "text": [
            "0     abc\n",
            "1    None\n",
            "2     def\n",
            "dtype: object\n"
          ]
        }
      ]
    },
    {
      "cell_type": "code",
      "metadata": {
        "colab": {
          "base_uri": "https://localhost:8080/"
        },
        "id": "l9v-T5FnNfsi",
        "outputId": "2322f5e6-2bf9-4e63-c0fc-254a1e57cef1"
      },
      "source": [
        "s = pd.Series(['abc', None, 'def'], dtype=\"string\")\n",
        "print(s)"
      ],
      "execution_count": 94,
      "outputs": [
        {
          "output_type": "stream",
          "name": "stdout",
          "text": [
            "0     abc\n",
            "1    <NA>\n",
            "2     def\n",
            "dtype: string\n"
          ]
        }
      ]
    },
    {
      "cell_type": "code",
      "metadata": {
        "colab": {
          "base_uri": "https://localhost:8080/"
        },
        "id": "rk3ftG1SNkE6",
        "outputId": "da053053-7298-4f50-d43b-0bcb213fdee9"
      },
      "source": [
        "df = pd.DataFrame(\n",
        "    {\n",
        "        \"a\": pd.Series([1, 2, 3], dtype=np.dtype(\"int32\")),\n",
        "        \"b\": pd.Series([\"x\", \"y\", \"z\"], dtype=np.dtype(\"O\")),\n",
        "        \"c\": pd.Series([True, False, np.nan], dtype=np.dtype(\"O\")),\n",
        "        \"d\": pd.Series([\"h\", \"i\", np.nan], dtype=np.dtype(\"O\")),\n",
        "        \"e\": pd.Series([10, np.nan, 20], dtype=np.dtype(\"float\")),\n",
        "        \"f\": pd.Series([np.nan, 100.5, 200], dtype=np.dtype(\"float\")),\n",
        "    }\n",
        ")\n",
        "print(df.to_markdown())\n",
        "print(df.dtypes)"
      ],
      "execution_count": 95,
      "outputs": [
        {
          "output_type": "stream",
          "name": "stdout",
          "text": [
            "|    |   a | b   |   c | d   |   e |     f |\n",
            "|---:|----:|:----|----:|:----|----:|------:|\n",
            "|  0 |   1 | x   |   1 | h   |  10 | nan   |\n",
            "|  1 |   2 | y   |   0 | i   | nan | 100.5 |\n",
            "|  2 |   3 | z   | nan | nan |  20 | 200   |\n",
            "a      int32\n",
            "b     object\n",
            "c     object\n",
            "d     object\n",
            "e    float64\n",
            "f    float64\n",
            "dtype: object\n"
          ]
        }
      ]
    },
    {
      "cell_type": "code",
      "metadata": {
        "colab": {
          "base_uri": "https://localhost:8080/"
        },
        "id": "x6zswt0PNulN",
        "outputId": "57b4956a-8e35-43ac-a408-955604f92c3d"
      },
      "source": [
        "dfn = df.convert_dtypes()\n",
        "print(dfn.to_markdown())\n",
        "print(dfn.dtypes)\n",
        "#stringtype nonstring이 같이 처리되는것을 방지 (기존까지는 object로 처리되었었음)"
      ],
      "execution_count": 96,
      "outputs": [
        {
          "output_type": "stream",
          "name": "stdout",
          "text": [
            "|    |   a | b   | c     | d    | e    |     f |\n",
            "|---:|----:|:----|:------|:-----|:-----|------:|\n",
            "|  0 |   1 | x   | True  | h    | 10   | nan   |\n",
            "|  1 |   2 | y   | False | i    | <NA> | 100.5 |\n",
            "|  2 |   3 | z   | <NA>  | <NA> | 20   | 200   |\n",
            "a      Int32\n",
            "b     string\n",
            "c    boolean\n",
            "d     string\n",
            "e      Int64\n",
            "f    float64\n",
            "dtype: object\n"
          ]
        }
      ]
    },
    {
      "cell_type": "code",
      "metadata": {
        "id": "sCKNBBLxNxNL"
      },
      "source": [
        ""
      ],
      "execution_count": null,
      "outputs": []
    }
  ]
}