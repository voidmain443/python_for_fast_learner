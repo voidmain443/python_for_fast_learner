{
  "cells": [
    {
      "cell_type": "markdown",
      "metadata": {
        "id": "cbOtTT6Vam7s"
      },
      "source": [
        "# matrix \n",
        "-----\n",
        "scalar is the basic concept on linear algebra .  \n",
        "scalar is physical quantity with magnitude. Like length and volume, distance is the scalar.   \n",
        "Is there a dataset one of the feature is the can measure by magnitude.   \n",
        "\n",
        "in python `x=3` is looks like scalar. \n"
      ]
    },
    {
      "cell_type": "code",
      "execution_count": 2,
      "metadata": {
        "colab": {
          "base_uri": "https://localhost:8080/"
        },
        "id": "6SEqO1xaabjr",
        "outputId": "537c7294-299a-4bc2-fdda-61498210d4b9"
      },
      "outputs": [
        {
          "name": "stdout",
          "output_type": "stream",
          "text": [
            "5\n"
          ]
        }
      ],
      "source": [
        "x = 2\n",
        "y = 3\n",
        "z = x+ y \n",
        "print(z)"
      ]
    },
    {
      "cell_type": "code",
      "execution_count": 3,
      "metadata": {
        "colab": {
          "base_uri": "https://localhost:8080/"
        },
        "id": "NjPhLcMqhO-C",
        "outputId": "692fac27-ffd0-4019-f15b-6089d5c9121b"
      },
      "outputs": [
        {
          "name": "stdout",
          "output_type": "stream",
          "text": [
            "-1\n"
          ]
        }
      ],
      "source": [
        "z = x- y \n",
        "print(z)\n"
      ]
    },
    {
      "cell_type": "code",
      "execution_count": 4,
      "metadata": {
        "colab": {
          "base_uri": "https://localhost:8080/"
        },
        "id": "y-_uawwwh8cr",
        "outputId": "3af85904-9573-4fef-8f85-98cd82d188dc"
      },
      "outputs": [
        {
          "data": {
            "text/plain": [
              "6"
            ]
          },
          "execution_count": 4,
          "metadata": {},
          "output_type": "execute_result"
        }
      ],
      "source": [
        "x * y"
      ]
    },
    {
      "cell_type": "code",
      "execution_count": 5,
      "metadata": {
        "colab": {
          "base_uri": "https://localhost:8080/"
        },
        "id": "D819zZQah-RO",
        "outputId": "bf32aaa5-6c9a-4f3d-ff57-d3d6fbfac809"
      },
      "outputs": [
        {
          "data": {
            "text/plain": [
              "0.6666666666666666"
            ]
          },
          "execution_count": 5,
          "metadata": {},
          "output_type": "execute_result"
        }
      ],
      "source": [
        "x / y"
      ]
    },
    {
      "cell_type": "markdown",
      "metadata": {
        "id": "DnwinkkCitQX"
      },
      "source": []
    },
    {
      "cell_type": "markdown",
      "metadata": {
        "id": "OkIyQhFtioqe"
      },
      "source": [
        "# vector \n",
        "-------\n",
        "vector is the set of scalar, is devided by magnitude direction.\n",
        "Vector is not affected by the positions.\n",
        "\n",
        "vector and zero vector \n"
      ]
    },
    {
      "cell_type": "code",
      "execution_count": 6,
      "metadata": {
        "colab": {
          "base_uri": "https://localhost:8080/"
        },
        "id": "PFTa7rMuiB8U",
        "outputId": "c8661c1a-35e1-40a6-d3f6-7f88726f7847"
      },
      "outputs": [
        {
          "name": "stdout",
          "output_type": "stream",
          "text": [
            "[5, 7, 9]\n"
          ]
        }
      ],
      "source": [
        "# vector (scalar multiplication) \n",
        "u = [1,2,3]\n",
        "v = [4,5,6]\n",
        "\n",
        "n = len(u)\n",
        "w = []\n",
        "\n",
        "for i in range(0, n):\n",
        "  val = u[i] + v[i]\n",
        "  w.append(val)\n",
        "\n",
        "print(w)"
      ]
    },
    {
      "cell_type": "code",
      "execution_count": 7,
      "metadata": {
        "id": "gsPAVU_HwUfP"
      },
      "outputs": [],
      "source": [
        "def V_add(u,v):\n",
        "  \"\"\"\n",
        "  vetor multiplication\n",
        "  input: 1D vector u,v\n",
        "  output: 1d vector w\n",
        "  \"\"\"\n",
        "  n = len(u)\n",
        "  w=[]\n",
        "\n",
        "  for i in range(0,n):\n",
        "    val = u[i] + v[i]\n",
        "    w.append(val)\n",
        "\n",
        "  return w "
      ]
    },
    {
      "cell_type": "code",
      "execution_count": 8,
      "metadata": {
        "colab": {
          "base_uri": "https://localhost:8080/"
        },
        "id": "2xwulb5OyWDO",
        "outputId": "f1de0ffa-8859-474a-9ec7-8614a5287c88"
      },
      "outputs": [
        {
          "data": {
            "text/plain": [
              "[5, 7, 9]"
            ]
          },
          "execution_count": 8,
          "metadata": {},
          "output_type": "execute_result"
        }
      ],
      "source": [
        "V_add(u,v)"
      ]
    },
    {
      "cell_type": "code",
      "execution_count": 9,
      "metadata": {
        "id": "TboivOyeyYn_"
      },
      "outputs": [],
      "source": [
        "def v_subtract(u,v):\n",
        "  \"\"\"\n",
        "  vector subtractsion\n",
        "  input: vector u,v\n",
        "  output: vector w\n",
        "  \"\"\"\n",
        "  n = len(u)\n",
        "  w=[]\n",
        "\n",
        "  for i in range(0,n):\n",
        "    val = u[i] - v[i]\n",
        "    w.append(val)\n",
        "  return w"
      ]
    },
    {
      "cell_type": "code",
      "execution_count": 10,
      "metadata": {
        "colab": {
          "base_uri": "https://localhost:8080/"
        },
        "id": "Rd9nEhVuwvd1",
        "outputId": "f293247b-cb67-4a88-825b-71f0c4470011"
      },
      "outputs": [
        {
          "data": {
            "text/plain": [
              "[-3, -3, -3]"
            ]
          },
          "execution_count": 10,
          "metadata": {},
          "output_type": "execute_result"
        }
      ],
      "source": [
        "v_subtract(u,v)"
      ]
    },
    {
      "cell_type": "code",
      "execution_count": 11,
      "metadata": {
        "id": "9CKNvBuS0M0W"
      },
      "outputs": [],
      "source": [
        "u=[2,3,4]\n",
        "a=3\n",
        "\n",
        "n=len(u)\n",
        "w=[]\n",
        "\n",
        "for i in range(0,n):\n",
        "  val=a*u[i]\n",
        "  w.append(val)"
      ]
    },
    {
      "cell_type": "code",
      "execution_count": 12,
      "metadata": {
        "colab": {
          "base_uri": "https://localhost:8080/"
        },
        "id": "ZdrKOAog2qv8",
        "outputId": "29340e87-1a90-4e61-d3aa-fde21ab1a4ff"
      },
      "outputs": [
        {
          "data": {
            "text/plain": [
              "[6, 9, 12]"
            ]
          },
          "execution_count": 12,
          "metadata": {},
          "output_type": "execute_result"
        }
      ],
      "source": [
        "w"
      ]
    },
    {
      "cell_type": "code",
      "execution_count": 13,
      "metadata": {
        "id": "rTmjrxZ72s1h"
      },
      "outputs": [],
      "source": [
        "def v_mul(u,v):\n",
        "  n=len(u)\n",
        "  w=[]\n",
        "  for i in range(0,n):\n",
        "    val=u[i] * v[i]\n",
        "    w.append(val)\n",
        "  return w"
      ]
    },
    {
      "cell_type": "code",
      "execution_count": 14,
      "metadata": {
        "colab": {
          "base_uri": "https://localhost:8080/"
        },
        "id": "fHZmAR3g8cf6",
        "outputId": "55605433-917d-4918-c5ad-bf3c0a927491"
      },
      "outputs": [
        {
          "data": {
            "text/plain": [
              "[8, 15, 24]"
            ]
          },
          "execution_count": 14,
          "metadata": {},
          "output_type": "execute_result"
        }
      ],
      "source": [
        "v_mul(u,v)"
      ]
    },
    {
      "cell_type": "markdown",
      "metadata": {
        "id": "0wQdSsmDBPSs"
      },
      "source": [
        "with numpy"
      ]
    },
    {
      "cell_type": "code",
      "execution_count": 18,
      "metadata": {
        "id": "Xq5hDek-8kIo"
      },
      "outputs": [
        {
          "name": "stdout",
          "output_type": "stream",
          "text": [
            "Defaulting to user installation because normal site-packages is not writeable\n",
            "Requirement already satisfied: numpy in /Users/voidmain443_d/Library/Python/3.8/lib/python/site-packages (1.22.3)\n",
            "Note: you may need to restart the kernel to use updated packages.\n"
          ]
        }
      ],
      "source": [
        "%pip install numpy"
      ]
    },
    {
      "cell_type": "code",
      "execution_count": 19,
      "metadata": {},
      "outputs": [],
      "source": [
        "import numpy as np \n"
      ]
    },
    {
      "cell_type": "code",
      "execution_count": 20,
      "metadata": {},
      "outputs": [],
      "source": [
        "u = np.array([1,2,3])\n",
        "v = np.array([4,5,6])\n",
        "w = u - v"
      ]
    },
    {
      "cell_type": "code",
      "execution_count": 21,
      "metadata": {},
      "outputs": [
        {
          "data": {
            "text/plain": [
              "array([-3, -3, -3])"
            ]
          },
          "execution_count": 21,
          "metadata": {},
          "output_type": "execute_result"
        }
      ],
      "source": [
        "w"
      ]
    },
    {
      "cell_type": "code",
      "execution_count": 22,
      "metadata": {},
      "outputs": [
        {
          "data": {
            "text/plain": [
              "array([3, 6, 9])"
            ]
          },
          "execution_count": 22,
          "metadata": {},
          "output_type": "execute_result"
        }
      ],
      "source": [
        "a = 3 \n",
        "u = np.array([1,2,3])\n",
        "w = a*u\n",
        "w"
      ]
    },
    {
      "cell_type": "code",
      "execution_count": 23,
      "metadata": {},
      "outputs": [
        {
          "data": {
            "text/plain": [
              "array([ 4, 10, 18])"
            ]
          },
          "execution_count": 23,
          "metadata": {},
          "output_type": "execute_result"
        }
      ],
      "source": [
        "# vector vector \n",
        "u = np.array([1,2,3])\n",
        "v = np.array([4,5,6])\n",
        "w = u * v\n",
        "w"
      ]
    },
    {
      "cell_type": "code",
      "execution_count": 24,
      "metadata": {},
      "outputs": [
        {
          "data": {
            "text/plain": [
              "array([0.25, 0.4 , 0.5 ])"
            ]
          },
          "execution_count": 24,
          "metadata": {},
          "output_type": "execute_result"
        }
      ],
      "source": [
        "w = u / v\n",
        "w"
      ]
    },
    {
      "cell_type": "code",
      "execution_count": 25,
      "metadata": {},
      "outputs": [],
      "source": [
        "A = [[2,7],[3,4],[6,1]]\n",
        "B = [[1,4],[4,-1],[2,5]]\n",
        "\n",
        "n = len(A)\n",
        "p = len(A[0])\n",
        "\n",
        "res = []\n",
        "for i in range(0,n):\n",
        "    row = []\n",
        "    for j in range(0,p):\n",
        "        val = A[i][j] + B[i][j]\n",
        "        row.append(val)\n",
        "    res.append(row)\n",
        "    \n"
      ]
    },
    {
      "cell_type": "code",
      "execution_count": 26,
      "metadata": {},
      "outputs": [
        {
          "data": {
            "text/plain": [
              "[[3, 11], [7, 3], [8, 6]]"
            ]
          },
          "execution_count": 26,
          "metadata": {},
          "output_type": "execute_result"
        }
      ],
      "source": [
        "res"
      ]
    },
    {
      "cell_type": "code",
      "execution_count": 6,
      "metadata": {},
      "outputs": [],
      "source": [
        "def add(A,B):\n",
        "    \"\"\"\n",
        "    adding a matrix\n",
        "    input: additional vector A, B \n",
        "    output: adding result C with A,B \n",
        "    \"\"\"\n",
        "    n = len(A)\n",
        "    p = len(A[0])\n",
        "    res = []\n",
        "    for i in range(0,n):\n",
        "        row = []\n",
        "        for j in range(0,p):\n",
        "            val = A[i][j] + B[i][j]\n",
        "            row.append(val)\n",
        "        res.append(row)\n",
        "    return res "
      ]
    },
    {
      "cell_type": "code",
      "execution_count": 7,
      "metadata": {},
      "outputs": [
        {
          "data": {
            "text/plain": [
              "[[3, 11], [7, 3], [8, 6]]"
            ]
          },
          "execution_count": 7,
          "metadata": {},
          "output_type": "execute_result"
        }
      ],
      "source": [
        "A = [[2,7], [3,4], [6,1]]\n",
        "B = [[1,4], [4,-1], [2,5]]\n",
        "\n",
        "add(A,B)"
      ]
    },
    {
      "cell_type": "code",
      "execution_count": 8,
      "metadata": {},
      "outputs": [],
      "source": [
        "def subtract(A,B):\n",
        "    \"\"\"\n",
        "    subtract of matrix\n",
        "    input: subtract vector A,B\n",
        "    output: subtract result C with A,B\n",
        "    \"\"\"\n",
        "    n = len(A)\n",
        "    p = len(A[0])\n",
        "\n",
        "    res = []\n",
        "    for i in range(0,n):\n",
        "        row = []\n",
        "        for j in range(0,p):\n",
        "            val = A[i][j] - B[i][j]\n",
        "            row.append(val)\n",
        "        res.append(row)\n",
        "    return res"
      ]
    },
    {
      "cell_type": "code",
      "execution_count": 9,
      "metadata": {},
      "outputs": [
        {
          "data": {
            "text/plain": [
              "[[1, 3], [-1, 5], [4, -4]]"
            ]
          },
          "execution_count": 9,
          "metadata": {},
          "output_type": "execute_result"
        }
      ],
      "source": [
        "subtract(A,B)"
      ]
    },
    {
      "cell_type": "code",
      "execution_count": 10,
      "metadata": {},
      "outputs": [],
      "source": [
        "def matmul(A,B):\n",
        "    n=len(A)\n",
        "    p1 = len(A[0])\n",
        "    p2 = len(B[0])\n",
        "    res = []\n",
        "    for i in range(0,n):\n",
        "        row=[]\n",
        "        for j in range(0,p2):\n",
        "            val =0 \n",
        "            for k in range(0,p1):\n",
        "                val += A[i][k] + B[k][j]\n",
        "            row.append(val)\n",
        "        res.append(row)\n",
        "    return res"
      ]
    },
    {
      "cell_type": "code",
      "execution_count": 11,
      "metadata": {},
      "outputs": [
        {
          "data": {
            "text/plain": [
              "[[20, 24, 23], [17, 21, 20], [28, 32, 31]]"
            ]
          },
          "execution_count": 11,
          "metadata": {},
          "output_type": "execute_result"
        }
      ],
      "source": [
        "A = [[2,8],[4,3],[10,8]]\n",
        "B = [[1,4,9],[9,10,4]]\n",
        "matmul(A,B)"
      ]
    },
    {
      "cell_type": "markdown",
      "metadata": {},
      "source": [
        "## numpy example"
      ]
    },
    {
      "cell_type": "code",
      "execution_count": 12,
      "metadata": {},
      "outputs": [],
      "source": [
        "import numpy as np\n",
        "A = np.array([[2,4],[5,4],[4,2]])\n",
        "B = np.array([[9,7],[8,9],[7,1]])\n",
        "C = A+B"
      ]
    },
    {
      "cell_type": "code",
      "execution_count": 13,
      "metadata": {},
      "outputs": [
        {
          "data": {
            "text/plain": [
              "array([[11, 11],\n",
              "       [13, 13],\n",
              "       [11,  3]])"
            ]
          },
          "execution_count": 13,
          "metadata": {},
          "output_type": "execute_result"
        }
      ],
      "source": [
        "C"
      ]
    },
    {
      "cell_type": "code",
      "execution_count": 14,
      "metadata": {},
      "outputs": [
        {
          "data": {
            "text/plain": [
              "array([[-7, -3],\n",
              "       [-3, -5],\n",
              "       [-3,  1]])"
            ]
          },
          "execution_count": 14,
          "metadata": {},
          "output_type": "execute_result"
        }
      ],
      "source": [
        "C = A-B\n",
        "C"
      ]
    },
    {
      "cell_type": "code",
      "execution_count": 15,
      "metadata": {},
      "outputs": [
        {
          "data": {
            "text/plain": [
              "array([[ 8, 16],\n",
              "       [20, 16],\n",
              "       [16,  8]])"
            ]
          },
          "execution_count": 15,
          "metadata": {},
          "output_type": "execute_result"
        }
      ],
      "source": [
        "m = 4 \n",
        "A*m"
      ]
    },
    {
      "cell_type": "code",
      "execution_count": 16,
      "metadata": {},
      "outputs": [
        {
          "data": {
            "text/plain": [
              "array([[18, 28],\n",
              "       [40, 36],\n",
              "       [28,  2]])"
            ]
          },
          "execution_count": 16,
          "metadata": {},
          "output_type": "execute_result"
        }
      ],
      "source": [
        "# multiply AoB \n",
        "C = np.multiply(A,B)\n",
        "C"
      ]
    },
    {
      "cell_type": "code",
      "execution_count": 17,
      "metadata": {},
      "outputs": [
        {
          "ename": "ValueError",
          "evalue": "matmul: Input operand 1 has a mismatch in its core dimension 0, with gufunc signature (n?,k),(k,m?)->(n?,m?) (size 3 is different from 2)",
          "output_type": "error",
          "traceback": [
            "\u001b[0;31m---------------------------------------------------------------------------\u001b[0m",
            "\u001b[0;31mValueError\u001b[0m                                Traceback (most recent call last)",
            "\u001b[1;32m/Users/voidmain443_d/github/github_python/math_with_code2.ipynb Cell 39'\u001b[0m in \u001b[0;36m<cell line: 1>\u001b[0;34m()\u001b[0m\n\u001b[0;32m----> <a href='vscode-notebook-cell:/Users/voidmain443_d/github/github_python/math_with_code2.ipynb#ch0000038?line=0'>1</a>\u001b[0m C \u001b[39m=\u001b[39m np\u001b[39m.\u001b[39;49mmatmul(A,B)\n",
            "\u001b[0;31mValueError\u001b[0m: matmul: Input operand 1 has a mismatch in its core dimension 0, with gufunc signature (n?,k),(k,m?)->(n?,m?) (size 3 is different from 2)"
          ]
        }
      ],
      "source": [
        "C = np.matmul(A,B)\n",
        "#error"
      ]
    },
    {
      "cell_type": "code",
      "execution_count": 18,
      "metadata": {},
      "outputs": [
        {
          "data": {
            "text/plain": [
              "array([[ 74,  88,  50],\n",
              "       [ 31,  46,  48],\n",
              "       [ 82, 120, 122]])"
            ]
          },
          "execution_count": 18,
          "metadata": {},
          "output_type": "execute_result"
        }
      ],
      "source": [
        "A = [[2,8],[4,3],[10,8]]\n",
        "B = [[1,4,9],[9,10,4]]\n",
        "np.matmul(A,B)"
      ]
    },
    {
      "cell_type": "code",
      "execution_count": null,
      "metadata": {},
      "outputs": [],
      "source": []
    }
  ],
  "metadata": {
    "colab": {
      "authorship_tag": "ABX9TyNekHbHIfELx6Na4u2iSDOq",
      "name": "math_with_code2.ipynb",
      "provenance": [],
      "toc_visible": true
    },
    "kernelspec": {
      "display_name": "Python 3",
      "name": "python3"
    },
    "language_info": {
      "codemirror_mode": {
        "name": "ipython",
        "version": 3
      },
      "file_extension": ".py",
      "mimetype": "text/x-python",
      "name": "python",
      "nbconvert_exporter": "python",
      "pygments_lexer": "ipython3",
      "version": "3.8.9"
    }
  },
  "nbformat": 4,
  "nbformat_minor": 0
}
