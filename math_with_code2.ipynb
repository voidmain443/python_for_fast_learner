{
  "nbformat": 4,
  "nbformat_minor": 0,
  "metadata": {
    "colab": {
      "name": "math_with_code2.ipynb",
      "provenance": [],
      "toc_visible": true,
      "authorship_tag": "ABX9TyNekHbHIfELx6Na4u2iSDOq"
    },
    "kernelspec": {
      "name": "python3",
      "display_name": "Python 3"
    },
    "language_info": {
      "name": "python"
    }
  },
  "cells": [
    {
      "cell_type": "markdown",
      "source": [
        "# matrix \n",
        "-----\n",
        "scalar is the basic concept on linear algebra .  \n",
        "scalar is physical quantity with magnitude. Like length and volume, distance is the scalar.   \n",
        "Is there a dataset one of the feature is the can measure by magnitude.   \n",
        "\n",
        "in python `x=3` is looks like scalar. \n"
      ],
      "metadata": {
        "id": "cbOtTT6Vam7s"
      }
    },
    {
      "cell_type": "code",
      "execution_count": 1,
      "metadata": {
        "colab": {
          "base_uri": "https://localhost:8080/"
        },
        "id": "6SEqO1xaabjr",
        "outputId": "537c7294-299a-4bc2-fdda-61498210d4b9"
      },
      "outputs": [
        {
          "output_type": "stream",
          "name": "stdout",
          "text": [
            "5\n"
          ]
        }
      ],
      "source": [
        "x = 2\n",
        "y = 3\n",
        "z = x+ y \n",
        "print(z)"
      ]
    },
    {
      "cell_type": "code",
      "source": [
        "z = x- y \n",
        "print(z)\n"
      ],
      "metadata": {
        "colab": {
          "base_uri": "https://localhost:8080/"
        },
        "id": "NjPhLcMqhO-C",
        "outputId": "692fac27-ffd0-4019-f15b-6089d5c9121b"
      },
      "execution_count": 2,
      "outputs": [
        {
          "output_type": "stream",
          "name": "stdout",
          "text": [
            "-1\n"
          ]
        }
      ]
    },
    {
      "cell_type": "code",
      "source": [
        "x * y"
      ],
      "metadata": {
        "colab": {
          "base_uri": "https://localhost:8080/"
        },
        "id": "y-_uawwwh8cr",
        "outputId": "3af85904-9573-4fef-8f85-98cd82d188dc"
      },
      "execution_count": 3,
      "outputs": [
        {
          "output_type": "execute_result",
          "data": {
            "text/plain": [
              "6"
            ]
          },
          "metadata": {},
          "execution_count": 3
        }
      ]
    },
    {
      "cell_type": "code",
      "source": [
        "x / y"
      ],
      "metadata": {
        "colab": {
          "base_uri": "https://localhost:8080/"
        },
        "id": "D819zZQah-RO",
        "outputId": "bf32aaa5-6c9a-4f3d-ff57-d3d6fbfac809"
      },
      "execution_count": 4,
      "outputs": [
        {
          "output_type": "execute_result",
          "data": {
            "text/plain": [
              "0.6666666666666666"
            ]
          },
          "metadata": {},
          "execution_count": 4
        }
      ]
    },
    {
      "cell_type": "markdown",
      "source": [
        ""
      ],
      "metadata": {
        "id": "DnwinkkCitQX"
      }
    },
    {
      "cell_type": "markdown",
      "source": [
        "# vector \n",
        "-------\n",
        "vector is the set of scalar, is devided by magnitude direction.\n",
        "Vector is not affected by the positions.\n",
        "\n",
        "vector and zero vector \n"
      ],
      "metadata": {
        "id": "OkIyQhFtioqe"
      }
    },
    {
      "cell_type": "code",
      "source": [
        "# vector (scalar multiplication) \n",
        "u = [1,2,3]\n",
        "v = [4,5,6]\n",
        "\n",
        "n = len(u)\n",
        "w = []\n",
        "\n",
        "for i in range(0, n):\n",
        "  val = u[i] + v[i]\n",
        "  w.append(val)\n",
        "\n",
        "print(w)"
      ],
      "metadata": {
        "colab": {
          "base_uri": "https://localhost:8080/"
        },
        "id": "PFTa7rMuiB8U",
        "outputId": "c8661c1a-35e1-40a6-d3f6-7f88726f7847"
      },
      "execution_count": 3,
      "outputs": [
        {
          "output_type": "stream",
          "name": "stdout",
          "text": [
            "[5, 7, 9]\n"
          ]
        }
      ]
    },
    {
      "cell_type": "code",
      "source": [
        "def V_add(u,v):\n",
        "  \"\"\"\n",
        "  vetor multiplication\n",
        "  input: 1D vector u,v\n",
        "  output: 1d vector w\n",
        "  \"\"\"\n",
        "  n = len(u)\n",
        "  w=[]\n",
        "\n",
        "  for i in range(0,n):\n",
        "    val = u[i] + v[i]\n",
        "    w.append(val)\n",
        "\n",
        "  return w "
      ],
      "metadata": {
        "id": "gsPAVU_HwUfP"
      },
      "execution_count": 4,
      "outputs": []
    },
    {
      "cell_type": "code",
      "source": [
        "V_add(u,v)"
      ],
      "metadata": {
        "colab": {
          "base_uri": "https://localhost:8080/"
        },
        "id": "2xwulb5OyWDO",
        "outputId": "f1de0ffa-8859-474a-9ec7-8614a5287c88"
      },
      "execution_count": 5,
      "outputs": [
        {
          "output_type": "execute_result",
          "data": {
            "text/plain": [
              "[5, 7, 9]"
            ]
          },
          "metadata": {},
          "execution_count": 5
        }
      ]
    },
    {
      "cell_type": "code",
      "source": [
        "def v_subtract(u,v):\n",
        "  \"\"\"\n",
        "  vector subtractsion\n",
        "  input: vector u,v\n",
        "  output: vector w\n",
        "  \"\"\"\n",
        "  n = len(u)\n",
        "  w=[]\n",
        "\n",
        "  for i in range(0,n):\n",
        "    val = u[i] - v[i]\n",
        "    w.append(val)\n",
        "  return w"
      ],
      "metadata": {
        "id": "TboivOyeyYn_"
      },
      "execution_count": 6,
      "outputs": []
    },
    {
      "cell_type": "code",
      "source": [
        "v_subtract(u,v)"
      ],
      "metadata": {
        "colab": {
          "base_uri": "https://localhost:8080/"
        },
        "id": "Rd9nEhVuwvd1",
        "outputId": "f293247b-cb67-4a88-825b-71f0c4470011"
      },
      "execution_count": 7,
      "outputs": [
        {
          "output_type": "execute_result",
          "data": {
            "text/plain": [
              "[-3, -3, -3]"
            ]
          },
          "metadata": {},
          "execution_count": 7
        }
      ]
    },
    {
      "cell_type": "code",
      "source": [
        "u=[2,3,4]\n",
        "a=3\n",
        "\n",
        "n=len(u)\n",
        "w=[]\n",
        "\n",
        "for i in range(0,n):\n",
        "  val=a*u[i]\n",
        "  w.append(val)"
      ],
      "metadata": {
        "id": "9CKNvBuS0M0W"
      },
      "execution_count": 8,
      "outputs": []
    },
    {
      "cell_type": "code",
      "source": [
        "w"
      ],
      "metadata": {
        "colab": {
          "base_uri": "https://localhost:8080/"
        },
        "id": "ZdrKOAog2qv8",
        "outputId": "29340e87-1a90-4e61-d3aa-fde21ab1a4ff"
      },
      "execution_count": 9,
      "outputs": [
        {
          "output_type": "execute_result",
          "data": {
            "text/plain": [
              "[6, 9, 12]"
            ]
          },
          "metadata": {},
          "execution_count": 9
        }
      ]
    },
    {
      "cell_type": "code",
      "source": [
        "def v_mul(u,v):\n",
        "  n=len(u)\n",
        "  w=[]\n",
        "  for i in range(0,n):\n",
        "    val=u[i] * v[i]\n",
        "    w.append(val)\n",
        "  return w"
      ],
      "metadata": {
        "id": "rTmjrxZ72s1h"
      },
      "execution_count": 12,
      "outputs": []
    },
    {
      "cell_type": "code",
      "source": [
        "v_mul(u,v)"
      ],
      "metadata": {
        "colab": {
          "base_uri": "https://localhost:8080/"
        },
        "id": "fHZmAR3g8cf6",
        "outputId": "55605433-917d-4918-c5ad-bf3c0a927491"
      },
      "execution_count": 13,
      "outputs": [
        {
          "output_type": "execute_result",
          "data": {
            "text/plain": [
              "[8, 15, 24]"
            ]
          },
          "metadata": {},
          "execution_count": 13
        }
      ]
    },
    {
      "cell_type": "markdown",
      "source": [
        "with numpy"
      ],
      "metadata": {
        "id": "0wQdSsmDBPSs"
      }
    },
    {
      "cell_type": "code",
      "source": [
        "import numpy as np\n",
        "u=np.array"
      ],
      "metadata": {
        "id": "Xq5hDek-8kIo"
      },
      "execution_count": null,
      "outputs": []
    }
  ]
}