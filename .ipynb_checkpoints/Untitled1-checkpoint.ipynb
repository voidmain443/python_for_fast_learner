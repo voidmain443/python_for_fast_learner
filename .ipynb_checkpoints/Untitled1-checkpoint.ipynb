{
 "cells": [
  {
   "cell_type": "code",
   "execution_count": 2,
   "id": "013b83c6",
   "metadata": {},
   "outputs": [
    {
     "name": "stdout",
     "output_type": "stream",
     "text": [
      "CPU times: user 2 µs, sys: 0 ns, total: 2 µs\n",
      "Wall time: 4.05 µs\n"
     ]
    },
    {
     "data": {
      "text/plain": [
       "()"
      ]
     },
     "execution_count": 2,
     "metadata": {},
     "output_type": "execute_result"
    }
   ],
   "source": [
    "time()\n"
   ]
  },
  {
   "cell_type": "markdown",
   "id": "ee744269",
   "metadata": {},
   "source": [
    "# starting with the numpy and scipy\n",
    "----\n",
    "우리가 하는 것들중 scipy와 numpy는 그저 기초만 하고 지나가는경우가 많다. \n",
    "좀더 차근히 파보는 연습을 하는 시간으로 잡았다 "
   ]
  },
  {
   "cell_type": "code",
   "execution_count": 3,
   "id": "c959df78",
   "metadata": {},
   "outputs": [],
   "source": [
    "import numpy as np\n"
   ]
  },
  {
   "cell_type": "code",
   "execution_count": 6,
   "id": "12a63a16",
   "metadata": {},
   "outputs": [],
   "source": [
    "??np"
   ]
  },
  {
   "cell_type": "code",
   "execution_count": 7,
   "id": "d0fba892",
   "metadata": {},
   "outputs": [],
   "source": [
    "arr = np.arange(1e7)#10^7\n"
   ]
  },
  {
   "cell_type": "code",
   "execution_count": 8,
   "id": "b4116e33",
   "metadata": {},
   "outputs": [],
   "source": [
    "larr = arr.tolist()"
   ]
  },
  {
   "cell_type": "code",
   "execution_count": 19,
   "id": "5e3b9179",
   "metadata": {},
   "outputs": [],
   "source": [
    "#list and arr  -- list cannot by default broadcast so  a function is coded to emulate what an ndarray cnd do \n",
    "def list_items(alist, scalar):\n",
    "    for i ,val in enumerate(alist):\n",
    "        alist[i] = val * scalar\n",
    "    return alist"
   ]
  },
  {
   "cell_type": "code",
   "execution_count": 11,
   "id": "6e101307",
   "metadata": {},
   "outputs": [
    {
     "name": "stdout",
     "output_type": "stream",
     "text": [
      "[(0, 'p'), (1, 'a'), (2, 'r'), (3, 'k'), (4, 'j'), (5, 'u'), (6, 'n'), (7, 'h'), (8, 'a')]\n",
      "[(3, 'p'), (4, 'a'), (5, 'r'), (6, 'k'), (7, 'j'), (8, 'u'), (9, 'n'), (10, 'h'), (11, 'a')]\n"
     ]
    }
   ],
   "source": [
    "# who don't understand enumerate!\n",
    "enum = \"parkjunha\"\n",
    "obj1 = enumerate(enum)\n",
    "obj2 = enumerate(enum,3)\n",
    "print(list(obj1))\n",
    "print(list(obj2))"
   ]
  },
  {
   "cell_type": "code",
   "execution_count": 12,
   "id": "141292b1",
   "metadata": {},
   "outputs": [
    {
     "name": "stdout",
     "output_type": "stream",
     "text": [
      "14.8 ms ± 42.2 µs per loop (mean ± std. dev. of 7 runs, 100 loops each)\n"
     ]
    }
   ],
   "source": [
    "timeit arr *1.1"
   ]
  },
  {
   "cell_type": "code",
   "execution_count": 20,
   "id": "00439519",
   "metadata": {},
   "outputs": [
    {
     "name": "stdout",
     "output_type": "stream",
     "text": [
      "610 ms ± 9.89 ms per loop (mean ± std. dev. of 7 runs, 1 loop each)\n"
     ]
    }
   ],
   "source": [
    "timeit list_items(larr, 1.1)"
   ]
  },
  {
   "cell_type": "markdown",
   "id": "8c794bf7",
   "metadata": {},
   "source": [
    "now check it out \n",
    "\n"
   ]
  },
  {
   "cell_type": "code",
   "execution_count": 22,
   "id": "7595f025",
   "metadata": {},
   "outputs": [],
   "source": [
    "arr = np.zeros((3,3,3))\n"
   ]
  },
  {
   "cell_type": "code",
   "execution_count": 23,
   "id": "f2309ee3",
   "metadata": {},
   "outputs": [
    {
     "ename": "ValueError",
     "evalue": "shape too large to be a matrix.",
     "output_type": "error",
     "traceback": [
      "\u001b[0;31m---------------------------------------------------------------------------\u001b[0m",
      "\u001b[0;31mValueError\u001b[0m                                Traceback (most recent call last)",
      "\u001b[0;32m<ipython-input-23-7569c6ee9093>\u001b[0m in \u001b[0;36m<module>\u001b[0;34m\u001b[0m\n\u001b[0;32m----> 1\u001b[0;31m \u001b[0mmat\u001b[0m \u001b[0;34m=\u001b[0m \u001b[0mnp\u001b[0m\u001b[0;34m.\u001b[0m\u001b[0mmatrix\u001b[0m\u001b[0;34m(\u001b[0m\u001b[0marr\u001b[0m\u001b[0;34m)\u001b[0m\u001b[0;34m\u001b[0m\u001b[0;34m\u001b[0m\u001b[0m\n\u001b[0m",
      "\u001b[0;32m~/opt/anaconda3/lib/python3.8/site-packages/numpy/matrixlib/defmatrix.py\u001b[0m in \u001b[0;36m__new__\u001b[0;34m(subtype, data, dtype, copy)\u001b[0m\n\u001b[1;32m    133\u001b[0m             \u001b[0;32melse\u001b[0m\u001b[0;34m:\u001b[0m\u001b[0;34m\u001b[0m\u001b[0;34m\u001b[0m\u001b[0m\n\u001b[1;32m    134\u001b[0m                 \u001b[0mintype\u001b[0m \u001b[0;34m=\u001b[0m \u001b[0mN\u001b[0m\u001b[0;34m.\u001b[0m\u001b[0mdtype\u001b[0m\u001b[0;34m(\u001b[0m\u001b[0mdtype\u001b[0m\u001b[0;34m)\u001b[0m\u001b[0;34m\u001b[0m\u001b[0;34m\u001b[0m\u001b[0m\n\u001b[0;32m--> 135\u001b[0;31m             \u001b[0mnew\u001b[0m \u001b[0;34m=\u001b[0m \u001b[0mdata\u001b[0m\u001b[0;34m.\u001b[0m\u001b[0mview\u001b[0m\u001b[0;34m(\u001b[0m\u001b[0msubtype\u001b[0m\u001b[0;34m)\u001b[0m\u001b[0;34m\u001b[0m\u001b[0;34m\u001b[0m\u001b[0m\n\u001b[0m\u001b[1;32m    136\u001b[0m             \u001b[0;32mif\u001b[0m \u001b[0mintype\u001b[0m \u001b[0;34m!=\u001b[0m \u001b[0mdata\u001b[0m\u001b[0;34m.\u001b[0m\u001b[0mdtype\u001b[0m\u001b[0;34m:\u001b[0m\u001b[0;34m\u001b[0m\u001b[0;34m\u001b[0m\u001b[0m\n\u001b[1;32m    137\u001b[0m                 \u001b[0;32mreturn\u001b[0m \u001b[0mnew\u001b[0m\u001b[0;34m.\u001b[0m\u001b[0mastype\u001b[0m\u001b[0;34m(\u001b[0m\u001b[0mintype\u001b[0m\u001b[0;34m)\u001b[0m\u001b[0;34m\u001b[0m\u001b[0;34m\u001b[0m\u001b[0m\n",
      "\u001b[0;32m~/opt/anaconda3/lib/python3.8/site-packages/numpy/matrixlib/defmatrix.py\u001b[0m in \u001b[0;36m__array_finalize__\u001b[0;34m(self, obj)\u001b[0m\n\u001b[1;32m    178\u001b[0m                 \u001b[0;32mreturn\u001b[0m\u001b[0;34m\u001b[0m\u001b[0;34m\u001b[0m\u001b[0m\n\u001b[1;32m    179\u001b[0m             \u001b[0;32melif\u001b[0m \u001b[0;34m(\u001b[0m\u001b[0mndim\u001b[0m \u001b[0;34m>\u001b[0m \u001b[0;36m2\u001b[0m\u001b[0;34m)\u001b[0m\u001b[0;34m:\u001b[0m\u001b[0;34m\u001b[0m\u001b[0;34m\u001b[0m\u001b[0m\n\u001b[0;32m--> 180\u001b[0;31m                 \u001b[0;32mraise\u001b[0m \u001b[0mValueError\u001b[0m\u001b[0;34m(\u001b[0m\u001b[0;34m\"shape too large to be a matrix.\"\u001b[0m\u001b[0;34m)\u001b[0m\u001b[0;34m\u001b[0m\u001b[0;34m\u001b[0m\u001b[0m\n\u001b[0m\u001b[1;32m    181\u001b[0m         \u001b[0;32melse\u001b[0m\u001b[0;34m:\u001b[0m\u001b[0;34m\u001b[0m\u001b[0;34m\u001b[0m\u001b[0m\n\u001b[1;32m    182\u001b[0m             \u001b[0mnewshape\u001b[0m \u001b[0;34m=\u001b[0m \u001b[0mself\u001b[0m\u001b[0;34m.\u001b[0m\u001b[0mshape\u001b[0m\u001b[0;34m\u001b[0m\u001b[0;34m\u001b[0m\u001b[0m\n",
      "\u001b[0;31mValueError\u001b[0m: shape too large to be a matrix."
     ]
    }
   ],
   "source": [
    "mat = np.matrix(arr)"
   ]
  },
  {
   "cell_type": "markdown",
   "id": "9b2eaa16",
   "metadata": {},
   "source": [
    "ams 번들 봐라 \n",
    "\\usepackage{amsmath}\n",
    "를 사용해서 하는 것이다. \n",
    "\n",
    "$$\n",
    "\\begin{equation} \n",
    "a^2+ b^2 = 10 \\label{1.1}\n",
    "\\end{equation}\n",
    "\n",
    "\\begin{equation} \n",
    "E = mc^2\\tag{what we show}\n",
    "\\end{equation}\n",
    "$$ \n",
    "\n",
    "$ \\eqref{what we show} is $\n",
    "\n",
    "로 잘 사용하면 됩니다. "
   ]
  },
  {
   "cell_type": "markdown",
   "id": "14fc837b",
   "metadata": {},
   "source": [
    "따라 $X_{i,j}$ $A$ and $B$ 로 되며  matrix는 two dimensional로 가능하다 3차원 이상은 힘들다 \n"
   ]
  },
  {
   "cell_type": "code",
   "execution_count": 25,
   "id": "f0f14195",
   "metadata": {},
   "outputs": [],
   "source": [
    "alist = [1,2,3]\n",
    "arr = np.array(alist)\n",
    "arr =np.zeros(5)\n",
    "arr = np.arange(100)\n",
    "arr = np.linspace(0,1,100)\n",
    "arr = np.logspace(0,1,100, base=10.0)\n",
    "image = np.zeros((5,5))\n",
    "cube = np.zeros((5,5,5)).astype(int) +1 \n"
   ]
  },
  {
   "cell_type": "code",
   "execution_count": null,
   "id": "0d47ae05",
   "metadata": {},
   "outputs": [],
   "source": []
  },
  {
   "cell_type": "code",
   "execution_count": null,
   "id": "dd5befef",
   "metadata": {},
   "outputs": [],
   "source": []
  }
 ],
 "metadata": {
  "kernelspec": {
   "display_name": "Python 3",
   "language": "python",
   "name": "python3"
  },
  "language_info": {
   "codemirror_mode": {
    "name": "ipython",
    "version": 3
   },
   "file_extension": ".py",
   "mimetype": "text/x-python",
   "name": "python",
   "nbconvert_exporter": "python",
   "pygments_lexer": "ipython3",
   "version": "3.8.5"
  }
 },
 "nbformat": 4,
 "nbformat_minor": 5
}
