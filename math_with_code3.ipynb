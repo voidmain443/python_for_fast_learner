{
 "cells": [
  {
   "cell_type": "markdown",
   "metadata": {},
   "source": [
    "# martiple matrix\n",
    "----\n",
    "transposed matrix \n",
    "  \n",
    "1. $ (A)^T)^T = A$  \n",
    "2. $ (A + B)^T = A^T + B^T $  \n",
    "3. $ (A - B)^T = A^T -B^T $\n",
    "4. $(\\text{a}A)^T = \\text{a}A^T$\n",
    "5. $ (AB)^T = B^TA^T $"
   ]
  },
  {
   "cell_type": "code",
   "execution_count": 1,
   "metadata": {},
   "outputs": [],
   "source": [
    "\n",
    "A = [[1,5],[3,4],[6,2]]\n",
    "n = len(A)\n",
    "p = len(A[0])\n",
    "\n",
    "At = []\n",
    "for i in range(0,p):\n",
    "    row = []\n",
    "    for j in range(0,n):\n",
    "        val = A[j][i]\n",
    "        row.append(val)\n",
    "    At.append(row)"
   ]
  },
  {
   "cell_type": "code",
   "execution_count": 2,
   "metadata": {},
   "outputs": [
    {
     "data": {
      "text/plain": [
       "[[1, 3, 6], [5, 4, 2]]"
      ]
     },
     "execution_count": 2,
     "metadata": {},
     "output_type": "execute_result"
    }
   ],
   "source": [
    "At"
   ]
  },
  {
   "cell_type": "markdown",
   "metadata": {},
   "source": [
    "# symmetric matrix\n",
    "-----\n",
    "$$\n",
    "\\begin{equation} \n",
    "A = \\begin{pmatrix}\n",
    "a & b & c\\\\\n",
    "d & e & f\\\\\n",
    "g & h & i\n",
    "\\end{pmatrix}\n",
    "\\end{equation}\n",
    "$$\n",
    "\n",
    "\n"
   ]
  },
  {
   "cell_type": "code",
   "execution_count": null,
   "metadata": {},
   "outputs": [],
   "source": []
  }
 ],
 "metadata": {
  "interpreter": {
   "hash": "31f2aee4e71d21fbe5cf8b01ff0e069b9275f58929596ceb00d14d90e3e16cd6"
  },
  "kernelspec": {
   "display_name": "Python 3.8.9 64-bit",
   "language": "python",
   "name": "python3"
  },
  "language_info": {
   "codemirror_mode": {
    "name": "ipython",
    "version": 3
   },
   "file_extension": ".py",
   "mimetype": "text/x-python",
   "name": "python",
   "nbconvert_exporter": "python",
   "pygments_lexer": "ipython3",
   "version": "3.8.9"
  },
  "orig_nbformat": 4
 },
 "nbformat": 4,
 "nbformat_minor": 2
}
