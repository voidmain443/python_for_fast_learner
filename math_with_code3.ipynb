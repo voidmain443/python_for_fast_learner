{
 "cells": [
  {
   "cell_type": "markdown",
   "metadata": {},
   "source": [
    "# martiple matrix\n",
    "----\n",
    "transposed matrix \n",
    "  \n",
    "1. $ (A)^T)^T = A$  \n",
    "2. $ (A + B)^T = A^T + B^T $  \n",
    "3. $ (A - B)^T = A^T -B^T $\n",
    "4. $(\\text{a}A)^T = \\text{a}A^T$\n",
    "5. $ (AB)^T = B^TA^T $"
   ]
  },
  {
   "cell_type": "code",
   "execution_count": 1,
   "metadata": {},
   "outputs": [],
   "source": [
    "\n",
    "A = [[1,5],[3,4],[6,2]]\n",
    "n = len(A)\n",
    "p = len(A[0])\n",
    "\n",
    "At = []\n",
    "for i in range(0,p):\n",
    "    row = []\n",
    "    for j in range(0,n):\n",
    "        val = A[j][i]\n",
    "        row.append(val)\n",
    "    At.append(row)"
   ]
  },
  {
   "cell_type": "code",
   "execution_count": 2,
   "metadata": {},
   "outputs": [
    {
     "data": {
      "text/plain": [
       "[[1, 3, 6], [5, 4, 2]]"
      ]
     },
     "execution_count": 2,
     "metadata": {},
     "output_type": "execute_result"
    }
   ],
   "source": [
    "At"
   ]
  },
  {
   "cell_type": "markdown",
   "metadata": {},
   "source": [
    "# symmetric matrix\n",
    "-----\n",
    "$$\n",
    "A = \\begin{pmatrix}\n",
    "a & b & c\\\\\n",
    "d & e & f\\\\\n",
    "g & h & i\n",
    "\\end{pmatrix}\n",
    "\n",
    "$$\n",
    "\n",
    "symmetric matrix is $A_{ij} = A_{ji}$ \n",
    "\n",
    "if you matmul the symmetric matrix for sure  $A^2$ and $A^3$ will be symmetrix matrix for sure as well. \n",
    "and it is also symmetric matrix as $A^TA$ and $AA^T$ too.  \n",
    "\n",
    "\n"
   ]
  },
  {
   "cell_type": "code",
   "execution_count": 9,
   "metadata": {},
   "outputs": [],
   "source": [
    "def transpose(A):\n",
    "    n = len(A)\n",
    "    p =len(A[0])\n",
    "\n",
    "    At = []\n",
    "    for i in range(0,p):\n",
    "        row = []\n",
    "        for j in range(0,n):\n",
    "            val = A[j][i]\n",
    "            row.append(val)\n",
    "        At.append(row)\n",
    "    return At"
   ]
  },
  {
   "cell_type": "code",
   "execution_count": 10,
   "metadata": {},
   "outputs": [],
   "source": [
    "def matmul(A,B):\n",
    "    n = len(A)\n",
    "    p1 = len(A[0])\n",
    "    p2 = len(B[0])\n",
    "    res =[]\n",
    "    for i in range(0,n):\n",
    "        row = []\n",
    "        for j in range(0,p2):\n",
    "            val =0\n",
    "            for  k in range(0,p1):\n",
    "                val += A[i][k] * B[k][j]\n",
    "            row .append(val)\n",
    "        res.append(row)\n",
    "    return res"
   ]
  },
  {
   "cell_type": "code",
   "execution_count": 11,
   "metadata": {},
   "outputs": [
    {
     "data": {
      "text/plain": [
       "[[1, 0, 2], [0, 2, 1], [2, 1, 1]]"
      ]
     },
     "execution_count": 11,
     "metadata": {},
     "output_type": "execute_result"
    }
   ],
   "source": [
    "A =[[1,0,2],[0,2,1],[2,1,1]]\n",
    "At = transpose(A)\n",
    "At"
   ]
  },
  {
   "cell_type": "code",
   "execution_count": 12,
   "metadata": {},
   "outputs": [
    {
     "name": "stdout",
     "output_type": "stream",
     "text": [
      "matrix A 2 square [[5, 2, 4], [2, 5, 3], [4, 3, 6]]\n",
      "matrix A 3 square [[13, 8, 16], [8, 13, 12], [16, 12, 17]]\n",
      "matrix A 4 square [[45, 32, 50], [32, 38, 41], [50, 41, 61]]\n",
      "matrix A 5 square [[145, 114, 172], [114, 117, 143], [172, 143, 202]]\n",
      "matrix A 6 square [[489, 400, 576], [400, 377, 488], [576, 488, 689]]\n",
      "matrix A 7 square [[1641, 1376, 1954], [1376, 1242, 1665], [1954, 1665, 2329]]\n",
      "matrix A 8 square [[5549, 4706, 6612], [4706, 4149, 5659], [6612, 5659, 7902]]\n",
      "matrix A 9 square [[18773, 16024, 22416], [16024, 13957, 19220], [22416, 19220, 26785]]\n",
      "matrix A 10 square [[63605, 54464, 75986], [54464, 47134, 65225], [75986, 65225, 90837]]\n"
     ]
    }
   ],
   "source": [
    "#A^n is the same form as A\n",
    "AA = A \n",
    "for i in range(0,9):\n",
    "    AA = matmul(AA, A)\n",
    "    print(\"matrix A\", i+2, \"square\", AA)"
   ]
  },
  {
   "cell_type": "code",
   "execution_count": null,
   "metadata": {},
   "outputs": [],
   "source": []
  }
 ],
 "metadata": {
  "interpreter": {
   "hash": "31f2aee4e71d21fbe5cf8b01ff0e069b9275f58929596ceb00d14d90e3e16cd6"
  },
  "kernelspec": {
   "display_name": "Python 3.8.9 64-bit",
   "language": "python",
   "name": "python3"
  },
  "language_info": {
   "codemirror_mode": {
    "name": "ipython",
    "version": 3
   },
   "file_extension": ".py",
   "mimetype": "text/x-python",
   "name": "python",
   "nbconvert_exporter": "python",
   "pygments_lexer": "ipython3",
   "version": "3.8.9"
  },
  "orig_nbformat": 4
 },
 "nbformat": 4,
 "nbformat_minor": 2
}
