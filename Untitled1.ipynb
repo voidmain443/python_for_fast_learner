{
 "cells": [
  {
   "cell_type": "code",
   "execution_count": 2,
   "id": "ec6365e8",
   "metadata": {},
   "outputs": [
    {
     "name": "stdout",
     "output_type": "stream",
     "text": [
      "CPU times: user 2 µs, sys: 0 ns, total: 2 µs\n",
      "Wall time: 4.05 µs\n"
     ]
    },
    {
     "data": {
      "text/plain": [
       "()"
      ]
     },
     "execution_count": 2,
     "metadata": {},
     "output_type": "execute_result"
    }
   ],
   "source": [
    "time()\n"
   ]
  },
  {
   "cell_type": "markdown",
   "id": "474479de",
   "metadata": {},
   "source": [
    "# starting with the numpy and scipy\n",
    "----\n",
    "우리가 하는 것들중 scipy와 numpy는 그저 기초만 하고 지나가는경우가 많다. \n",
    "좀더 차근히 파보는 연습을 하는 시간으로 잡았다 "
   ]
  },
  {
   "cell_type": "code",
   "execution_count": 3,
   "id": "e8db60bb",
   "metadata": {},
   "outputs": [],
   "source": [
    "import numpy as np\n"
   ]
  },
  {
   "cell_type": "code",
   "execution_count": 6,
   "id": "3633e7e8",
   "metadata": {},
   "outputs": [],
   "source": [
    "??np"
   ]
  },
  {
   "cell_type": "code",
   "execution_count": 7,
   "id": "91b2bc2c",
   "metadata": {},
   "outputs": [],
   "source": [
    "arr = np.arange(1e7)#10^7\n"
   ]
  },
  {
   "cell_type": "code",
   "execution_count": 8,
   "id": "0acaf64e",
   "metadata": {},
   "outputs": [],
   "source": [
    "larr = arr.tolist()"
   ]
  },
  {
   "cell_type": "code",
   "execution_count": 19,
   "id": "09825943",
   "metadata": {},
   "outputs": [],
   "source": [
    "#list and arr  -- list cannot by default broadcast so  a function is coded to emulate what an ndarray cnd do \n",
    "def list_items(alist, scalar):\n",
    "    for i ,val in enumerate(alist):\n",
    "        alist[i] = val * scalar\n",
    "    return alist"
   ]
  },
  {
   "cell_type": "code",
   "execution_count": 11,
   "id": "0db132c5",
   "metadata": {},
   "outputs": [
    {
     "name": "stdout",
     "output_type": "stream",
     "text": [
      "[(0, 'p'), (1, 'a'), (2, 'r'), (3, 'k'), (4, 'j'), (5, 'u'), (6, 'n'), (7, 'h'), (8, 'a')]\n",
      "[(3, 'p'), (4, 'a'), (5, 'r'), (6, 'k'), (7, 'j'), (8, 'u'), (9, 'n'), (10, 'h'), (11, 'a')]\n"
     ]
    }
   ],
   "source": [
    "# who don't understand enumerate!\n",
    "enum = \"parkjunha\"\n",
    "obj1 = enumerate(enum)\n",
    "obj2 = enumerate(enum,3)\n",
    "print(list(obj1))\n",
    "print(list(obj2))"
   ]
  },
  {
   "cell_type": "code",
   "execution_count": 12,
   "id": "923441d0",
   "metadata": {},
   "outputs": [
    {
     "name": "stdout",
     "output_type": "stream",
     "text": [
      "14.8 ms ± 42.2 µs per loop (mean ± std. dev. of 7 runs, 100 loops each)\n"
     ]
    }
   ],
   "source": [
    "timeit arr *1.1"
   ]
  },
  {
   "cell_type": "code",
   "execution_count": 20,
   "id": "c58ad53f",
   "metadata": {},
   "outputs": [
    {
     "name": "stdout",
     "output_type": "stream",
     "text": [
      "610 ms ± 9.89 ms per loop (mean ± std. dev. of 7 runs, 1 loop each)\n"
     ]
    }
   ],
   "source": [
    "timeit list_items(larr, 1.1)"
   ]
  },
  {
   "cell_type": "markdown",
   "id": "e9173957",
   "metadata": {},
   "source": [
    "now check it out \n",
    "\n"
   ]
  },
  {
   "cell_type": "code",
   "execution_count": 22,
   "id": "995b9a54",
   "metadata": {},
   "outputs": [],
   "source": [
    "arr = np.zeros((3,3,3))\n"
   ]
  },
  {
   "cell_type": "code",
   "execution_count": 23,
   "id": "acf18b44",
   "metadata": {},
   "outputs": [
    {
     "ename": "ValueError",
     "evalue": "shape too large to be a matrix.",
     "output_type": "error",
     "traceback": [
      "\u001b[0;31m---------------------------------------------------------------------------\u001b[0m",
      "\u001b[0;31mValueError\u001b[0m                                Traceback (most recent call last)",
      "\u001b[0;32m<ipython-input-23-7569c6ee9093>\u001b[0m in \u001b[0;36m<module>\u001b[0;34m\u001b[0m\n\u001b[0;32m----> 1\u001b[0;31m \u001b[0mmat\u001b[0m \u001b[0;34m=\u001b[0m \u001b[0mnp\u001b[0m\u001b[0;34m.\u001b[0m\u001b[0mmatrix\u001b[0m\u001b[0;34m(\u001b[0m\u001b[0marr\u001b[0m\u001b[0;34m)\u001b[0m\u001b[0;34m\u001b[0m\u001b[0;34m\u001b[0m\u001b[0m\n\u001b[0m",
      "\u001b[0;32m~/opt/anaconda3/lib/python3.8/site-packages/numpy/matrixlib/defmatrix.py\u001b[0m in \u001b[0;36m__new__\u001b[0;34m(subtype, data, dtype, copy)\u001b[0m\n\u001b[1;32m    133\u001b[0m             \u001b[0;32melse\u001b[0m\u001b[0;34m:\u001b[0m\u001b[0;34m\u001b[0m\u001b[0;34m\u001b[0m\u001b[0m\n\u001b[1;32m    134\u001b[0m                 \u001b[0mintype\u001b[0m \u001b[0;34m=\u001b[0m \u001b[0mN\u001b[0m\u001b[0;34m.\u001b[0m\u001b[0mdtype\u001b[0m\u001b[0;34m(\u001b[0m\u001b[0mdtype\u001b[0m\u001b[0;34m)\u001b[0m\u001b[0;34m\u001b[0m\u001b[0;34m\u001b[0m\u001b[0m\n\u001b[0;32m--> 135\u001b[0;31m             \u001b[0mnew\u001b[0m \u001b[0;34m=\u001b[0m \u001b[0mdata\u001b[0m\u001b[0;34m.\u001b[0m\u001b[0mview\u001b[0m\u001b[0;34m(\u001b[0m\u001b[0msubtype\u001b[0m\u001b[0;34m)\u001b[0m\u001b[0;34m\u001b[0m\u001b[0;34m\u001b[0m\u001b[0m\n\u001b[0m\u001b[1;32m    136\u001b[0m             \u001b[0;32mif\u001b[0m \u001b[0mintype\u001b[0m \u001b[0;34m!=\u001b[0m \u001b[0mdata\u001b[0m\u001b[0;34m.\u001b[0m\u001b[0mdtype\u001b[0m\u001b[0;34m:\u001b[0m\u001b[0;34m\u001b[0m\u001b[0;34m\u001b[0m\u001b[0m\n\u001b[1;32m    137\u001b[0m                 \u001b[0;32mreturn\u001b[0m \u001b[0mnew\u001b[0m\u001b[0;34m.\u001b[0m\u001b[0mastype\u001b[0m\u001b[0;34m(\u001b[0m\u001b[0mintype\u001b[0m\u001b[0;34m)\u001b[0m\u001b[0;34m\u001b[0m\u001b[0;34m\u001b[0m\u001b[0m\n",
      "\u001b[0;32m~/opt/anaconda3/lib/python3.8/site-packages/numpy/matrixlib/defmatrix.py\u001b[0m in \u001b[0;36m__array_finalize__\u001b[0;34m(self, obj)\u001b[0m\n\u001b[1;32m    178\u001b[0m                 \u001b[0;32mreturn\u001b[0m\u001b[0;34m\u001b[0m\u001b[0;34m\u001b[0m\u001b[0m\n\u001b[1;32m    179\u001b[0m             \u001b[0;32melif\u001b[0m \u001b[0;34m(\u001b[0m\u001b[0mndim\u001b[0m \u001b[0;34m>\u001b[0m \u001b[0;36m2\u001b[0m\u001b[0;34m)\u001b[0m\u001b[0;34m:\u001b[0m\u001b[0;34m\u001b[0m\u001b[0;34m\u001b[0m\u001b[0m\n\u001b[0;32m--> 180\u001b[0;31m                 \u001b[0;32mraise\u001b[0m \u001b[0mValueError\u001b[0m\u001b[0;34m(\u001b[0m\u001b[0;34m\"shape too large to be a matrix.\"\u001b[0m\u001b[0;34m)\u001b[0m\u001b[0;34m\u001b[0m\u001b[0;34m\u001b[0m\u001b[0m\n\u001b[0m\u001b[1;32m    181\u001b[0m         \u001b[0;32melse\u001b[0m\u001b[0;34m:\u001b[0m\u001b[0;34m\u001b[0m\u001b[0;34m\u001b[0m\u001b[0m\n\u001b[1;32m    182\u001b[0m             \u001b[0mnewshape\u001b[0m \u001b[0;34m=\u001b[0m \u001b[0mself\u001b[0m\u001b[0;34m.\u001b[0m\u001b[0mshape\u001b[0m\u001b[0;34m\u001b[0m\u001b[0;34m\u001b[0m\u001b[0m\n",
      "\u001b[0;31mValueError\u001b[0m: shape too large to be a matrix."
     ]
    }
   ],
   "source": [
    "mat = np.matrix(arr)"
   ]
  },
  {
   "cell_type": "markdown",
   "id": "fe500d41",
   "metadata": {},
   "source": [
    "ams 번들 봐라 \n",
    "\\usepackage{amsmath}\n",
    "를 사용해서 하는 것이다. \n",
    "\n",
    "$$\n",
    "\\begin{equation} \n",
    "a^2+ b^2 = 10 \\label{1.1}\n",
    "\\end{equation}\n",
    "\n",
    "\\begin{equation} \n",
    "E = mc^2\\tag{what we show}\n",
    "\\end{equation}\n",
    "$$ \n",
    "\n",
    "$ \\eqref{what we show} is $\n",
    "\n",
    "로 잘 사용하면 됩니다. "
   ]
  },
  {
   "cell_type": "markdown",
   "id": "1b215d1a",
   "metadata": {},
   "source": [
    "따라 $X_{i,j}$ $A$ and $B$ 로 되며  matrix는 two dimensional로 가능하다 3차원 이상은 힘들다 \n"
   ]
  },
  {
   "cell_type": "code",
   "execution_count": 26,
   "id": "a854fa2e",
   "metadata": {},
   "outputs": [],
   "source": [
    "alist = [1,2,3]\n",
    "arr = np.array(alist)\n",
    "arr =np.zeros(5)\n",
    "arr = np.arange(100)\n",
    "arr = np.linspace(0,1,100)\n",
    "arr = np.logspace(0,1,100, base=10.0)\n",
    "image = np.zeros((5,5))\n",
    "cube = np.zeros((5,5,5)).astype(int) +1 \n",
    "cube = np.ones((5,5,5)).astype(np.float16)"
   ]
  },
  {
   "cell_type": "code",
   "execution_count": 27,
   "id": "9f5a7299",
   "metadata": {},
   "outputs": [
    {
     "data": {
      "text/plain": [
       "array([[[1., 1., 1., 1., 1.],\n",
       "        [1., 1., 1., 1., 1.],\n",
       "        [1., 1., 1., 1., 1.],\n",
       "        [1., 1., 1., 1., 1.],\n",
       "        [1., 1., 1., 1., 1.]],\n",
       "\n",
       "       [[1., 1., 1., 1., 1.],\n",
       "        [1., 1., 1., 1., 1.],\n",
       "        [1., 1., 1., 1., 1.],\n",
       "        [1., 1., 1., 1., 1.],\n",
       "        [1., 1., 1., 1., 1.]],\n",
       "\n",
       "       [[1., 1., 1., 1., 1.],\n",
       "        [1., 1., 1., 1., 1.],\n",
       "        [1., 1., 1., 1., 1.],\n",
       "        [1., 1., 1., 1., 1.],\n",
       "        [1., 1., 1., 1., 1.]],\n",
       "\n",
       "       [[1., 1., 1., 1., 1.],\n",
       "        [1., 1., 1., 1., 1.],\n",
       "        [1., 1., 1., 1., 1.],\n",
       "        [1., 1., 1., 1., 1.],\n",
       "        [1., 1., 1., 1., 1.]],\n",
       "\n",
       "       [[1., 1., 1., 1., 1.],\n",
       "        [1., 1., 1., 1., 1.],\n",
       "        [1., 1., 1., 1., 1.],\n",
       "        [1., 1., 1., 1., 1.],\n",
       "        [1., 1., 1., 1., 1.]]], dtype=float16)"
      ]
     },
     "execution_count": 27,
     "metadata": {},
     "output_type": "execute_result"
    }
   ],
   "source": [
    "cube"
   ]
  },
  {
   "cell_type": "code",
   "execution_count": 29,
   "id": "2744a425",
   "metadata": {},
   "outputs": [
    {
     "name": "stdout",
     "output_type": "stream",
     "text": [
      "(10000,)\n"
     ]
    }
   ],
   "source": [
    "arr = np.zeros(2,dtype=int)\n",
    "arr = np.zeros(2,dtype=np.float32)\n",
    "arr1d = np.arange(1000)\n",
    "arr3d = arr1d.reshape((10,10,10))\n",
    "arr3d = np.reshape(arr1d,(10,10,10))\n",
    "arr4d = np.zeros((10,10,10,10))\n",
    "arr1d = arr4d.ravel()\n",
    "print(arr1d.shape)"
   ]
  },
  {
   "cell_type": "markdown",
   "id": "d753cb4f",
   "metadata": {},
   "source": [
    "재미있는 걸 해볼게요   \n",
    "record arrays 라는거에요 "
   ]
  },
  {
   "cell_type": "code",
   "execution_count": 30,
   "id": "57336919",
   "metadata": {},
   "outputs": [],
   "source": [
    "recarr = np.zeros((2,),dtype=('i4,f4,a10'))\n",
    "toadd = [(1,2.,'hello'),(2,3.,\"yoonjaeheong\")]\n",
    "recarr[:]= toadd"
   ]
  },
  {
   "cell_type": "markdown",
   "id": "3adf7289",
   "metadata": {},
   "source": [
    "i4 corresponds to a 32bit integer , f4 correspond to 32-bit float , a10 string 10 character "
   ]
  },
  {
   "cell_type": "code",
   "execution_count": 46,
   "id": "bb1c71df",
   "metadata": {},
   "outputs": [
    {
     "name": "stdout",
     "output_type": "stream",
     "text": [
      "[1 2]\n"
     ]
    }
   ],
   "source": [
    "recarr = np.zeros((2,),dtype=('i4,f4,a10'))\n",
    "\n",
    "col1 = np.arange(2) + 1\n",
    "col2 = np.arange(2, dtype= np.float32)\n",
    "col3 = ['hello', 'class']\n",
    "\n",
    "toadd = zip(col1,col2,col3)\n",
    "\n",
    "recarr[:] = list(toadd)\n",
    "\n",
    "recarr.dtype.names = ('Integers', 'Floats', 'Strings')\n",
    "\n",
    "print(recarr['Integers'])"
   ]
  },
  {
   "cell_type": "markdown",
   "id": "1eed219c",
   "metadata": {},
   "source": [
    "### indexing and slicing\n",
    "-----\n",
    "numpy arrays "
   ]
  },
  {
   "cell_type": "code",
   "execution_count": 48,
   "id": "4e14fd84",
   "metadata": {},
   "outputs": [
    {
     "data": {
      "text/plain": [
       "2"
      ]
     },
     "execution_count": 48,
     "metadata": {},
     "output_type": "execute_result"
    }
   ],
   "source": [
    "alist = [[1,2],[3,4]]\n",
    "\n",
    "alist[0][1]"
   ]
  },
  {
   "cell_type": "code",
   "execution_count": 49,
   "id": "a89a6bae",
   "metadata": {},
   "outputs": [
    {
     "data": {
      "text/plain": [
       "array([3, 4])"
      ]
     },
     "execution_count": 49,
     "metadata": {},
     "output_type": "execute_result"
    }
   ],
   "source": [
    "arr = np.array(alist)\n",
    "arr[0, 1]\n",
    "arr[:,1]\n",
    "arr[1,:]"
   ]
  },
  {
   "cell_type": "code",
   "execution_count": 50,
   "id": "7cf445c9",
   "metadata": {},
   "outputs": [
    {
     "name": "stdout",
     "output_type": "stream",
     "text": [
      "(array([3, 4]),)\n"
     ]
    }
   ],
   "source": [
    "arr = np.arange(5)\n",
    "index = np.where(arr>2)\n",
    "print(index)\n",
    "new_arr = arr[index]"
   ]
  },
  {
   "cell_type": "code",
   "execution_count": 52,
   "id": "856c6508",
   "metadata": {},
   "outputs": [
    {
     "name": "stdout",
     "output_type": "stream",
     "text": [
      "[False False False  True  True]\n"
     ]
    }
   ],
   "source": [
    "index = arr >2 \n",
    "print(index)\n",
    "new_arr = arr[index]"
   ]
  },
  {
   "cell_type": "markdown",
   "id": "9c22e1a7",
   "metadata": {},
   "source": [
    "### boolean statement and numpy arrays\n",
    "----\n"
   ]
  },
  {
   "cell_type": "code",
   "execution_count": 55,
   "id": "f35ab402",
   "metadata": {},
   "outputs": [],
   "source": [
    "img1 = np.zeros((20,20)) +3 \n",
    "img1[4:-4,4:-4] = 6 \n",
    "img1[7:-7,7:-7] = 9 \n",
    "\n",
    "\n",
    "index1 = img1>3\n",
    "index2 = img1<7\n",
    "compound_index = index1 & index2\n",
    "\n",
    "compound_index = (img1 > 3 ) & (img1 < 7 )\n",
    "img2 = np.copy(img1)\n",
    "img2[compound_index] = 0\n",
    "\n",
    "index3 = img1 ==9\n",
    "index4 = (index1&index2) | index3 \n",
    "img3 = np.copy(img1)\n",
    "img3[index4] = 0 "
   ]
  },
  {
   "cell_type": "code",
   "execution_count": 60,
   "id": "8344fee8",
   "metadata": {},
   "outputs": [],
   "source": [
    "import numpy.random as rand\n",
    "a = rand.randn(100)\n",
    "index = a > 0.2 \n",
    "b = a[index]\n",
    "b = b ** 2 - 2 \n",
    "\n",
    "a[index] = b "
   ]
  },
  {
   "cell_type": "markdown",
   "id": "aa5be309",
   "metadata": {},
   "source": [
    " read and write   \n",
    " textfile binary files "
   ]
  },
  {
   "cell_type": "code",
   "execution_count": null,
   "id": "b2f9356c",
   "metadata": {},
   "outputs": [],
   "source": []
  }
 ],
 "metadata": {
  "kernelspec": {
   "display_name": "Python 3",
   "language": "python",
   "name": "python3"
  },
  "language_info": {
   "codemirror_mode": {
    "name": "ipython",
    "version": 3
   },
   "file_extension": ".py",
   "mimetype": "text/x-python",
   "name": "python",
   "nbconvert_exporter": "python",
   "pygments_lexer": "ipython3",
   "version": "3.8.5"
  }
 },
 "nbformat": 4,
 "nbformat_minor": 5
}
