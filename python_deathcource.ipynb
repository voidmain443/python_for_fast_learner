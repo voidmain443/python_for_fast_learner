{
 "cells": [
  {
   "cell_type": "markdown",
   "id": "61f67782",
   "metadata": {},
   "source": [
    "# python lecture_1"
   ]
  },
  {
   "cell_type": "code",
   "execution_count": 2,
   "id": "fee0d1b2",
   "metadata": {
    "scrolled": true
   },
   "outputs": [
    {
     "name": "stdout",
     "output_type": "stream",
     "text": [
      "The Zen of Python, by Tim Peters\n",
      "\n",
      "Beautiful is better than ugly.\n",
      "Explicit is better than implicit.\n",
      "Simple is better than complex.\n",
      "Complex is better than complicated.\n",
      "Flat is better than nested.\n",
      "Sparse is better than dense.\n",
      "Readability counts.\n",
      "Special cases aren't special enough to break the rules.\n",
      "Although practicality beats purity.\n",
      "Errors should never pass silently.\n",
      "Unless explicitly silenced.\n",
      "In the face of ambiguity, refuse the temptation to guess.\n",
      "There should be one-- and preferably only one --obvious way to do it.\n",
      "Although that way may not be obvious at first unless you're Dutch.\n",
      "Now is better than never.\n",
      "Although never is often better than *right* now.\n",
      "If the implementation is hard to explain, it's a bad idea.\n",
      "If the implementation is easy to explain, it may be a good idea.\n",
      "Namespaces are one honking great idea -- let's do more of those!\n"
     ]
    }
   ],
   "source": [
    "import this"
   ]
  },
  {
   "cell_type": "markdown",
   "id": "32afdc3a",
   "metadata": {},
   "source": [
    "### Install the pip Package Manager\n",
    "Beyond the standard Python installation, two tools are almost essential for Python development: pip and virtualenv.\n",
    "\n",
    "The pip package is the most popular way to install third-party (nonstandard) Python packages. It has been annoying that such a useful tool isn’t part of standard Python and that you’ve needed to download and install it yourself. As a friend of mine used to say, it’s a cruel hazing ritual. The good news is that pip is a standard part of Python, starting with the 3.4 release.\n",
    "\n",
    "If you have Python 3 but only the Python 2 version of pip, here’s how to get the Python 3 version on Linux or macOS:\n",
    "```{bash}\n",
    "$ curl -O http://python-distribute.org/distribute_setup.py\n",
    "$ sudo python3 distribute_setup.py\n",
    "$ curl -O https://raw.github.com/pypa/pip/master/contrib/get-pip.py\n",
    "$ sudo python3 get-pip.py\n",
    "```\n",
    "This installs pip-3.3 in the bin directory of your Python 3 installation. Then, use pip-3.3 to install third-party Python packages rather than Python 2’s pip.\n",
    "\n",
    "### Install virtualenv\n",
    "Often used with pip, the virtualenv program is a way to install Python packages in a specified directory (folder) to avoid interactions with any preexisting system Python packages. This lets you use whatever Python goodies you want, even if you don’t have permission to change the existing installation.\n",
    "\n",
    "Some good guides to pip and virtualenv are:\n",
    "\n",
    "[A Non-Magical Introduction to Pip and Virtualenv for Python Beginners](http://bit.ly/jm-pip-vlenv)\n",
    "\n",
    "[The Hitchhiker’s Guide to Packaging: Pip](http://bit.ly/hhgp-pip)\n",
    "\n",
    "Other Packaging Solutions\n",
    "As you’ve seen, Python’s packaging techniques vary, and none work well for every problem. The PyPA (Python Packaging Authority) is a volunteer working group (not part of the official Python development core group) that’s trying to simplify Python packaging. The group wrote the Python Packaging User’s Guide, which discusses problems and solutions.\n",
    "\n",
    "The most popular tools are pip and virtualenv, and I’ve used these throughout this book. If they fall short for you, or if you like trying new things, here are some alternatives:\n",
    "\n",
    "pipenv combines pip and virtualenv and adds more features. See also some criticism and threaded discussion.\n",
    "\n",
    "poetry is a rival that addresses some of the problems with pipenv.\n",
    "\n",
    "But the most prominent packaging alternative, especially for scientific and data-heavy applications, is conda. You can get it as part of the Anaconda Python distribution, which I talk about next, or by itself (“Install Anaconda’s Package Manager conda”)."
   ]
  },
  {
   "cell_type": "code",
   "execution_count": 3,
   "id": "8ec6f994",
   "metadata": {},
   "outputs": [
    {
     "data": {
      "text/plain": [
       "['False',\n",
       " 'None',\n",
       " 'True',\n",
       " 'and',\n",
       " 'as',\n",
       " 'assert',\n",
       " 'async',\n",
       " 'await',\n",
       " 'break',\n",
       " 'class',\n",
       " 'continue',\n",
       " 'def',\n",
       " 'del',\n",
       " 'elif',\n",
       " 'else',\n",
       " 'except',\n",
       " 'finally',\n",
       " 'for',\n",
       " 'from',\n",
       " 'global',\n",
       " 'if',\n",
       " 'import',\n",
       " 'in',\n",
       " 'is',\n",
       " 'lambda',\n",
       " 'nonlocal',\n",
       " 'not',\n",
       " 'or',\n",
       " 'pass',\n",
       " 'raise',\n",
       " 'return',\n",
       " 'try',\n",
       " 'while',\n",
       " 'with',\n",
       " 'yield']"
      ]
     },
     "execution_count": 3,
     "metadata": {},
     "output_type": "execute_result"
    }
   ],
   "source": [
    "import keyword\n",
    "keyword.kwlist"
   ]
  },
  {
   "cell_type": "code",
   "execution_count": 4,
   "id": "5cc371ee",
   "metadata": {},
   "outputs": [
    {
     "data": {
      "text/plain": [
       "6"
      ]
     },
     "execution_count": 4,
     "metadata": {},
     "output_type": "execute_result"
    }
   ],
   "source": [
    "y = 4\n",
    "x = 10 - y \n",
    "x"
   ]
  },
  {
   "cell_type": "markdown",
   "id": "4711a91c",
   "metadata": {},
   "source": [
    "In this code snippet, Python did the following:\n",
    "\n",
    "- Created an integer object with the value 5\n",
    "\n",
    "- Made a variable y point to that 5 object\n",
    "\n",
    "- Incremented the reference count of the object with value 5\n",
    "\n",
    "- Created another integer object with the value 12\n",
    "\n",
    "- Subtracted the value of the object that y points to (5) from the value 12 in the (anonymous) object with that value\n",
    "\n",
    "- Assigned this value (7) to a new (so far, unnamed) integer object\n",
    "\n",
    "- Made the variable x point to this new object\n",
    "\n",
    "- Incremented the reference count of this new object that x points to\n",
    "\n",
    "- Looked up the value of the object that x points to (7) and printed it"
   ]
  },
  {
   "cell_type": "code",
   "execution_count": 6,
   "id": "ba91fe5d",
   "metadata": {},
   "outputs": [
    {
     "name": "stdout",
     "output_type": "stream",
     "text": [
      "2\n",
      "2\n",
      "2\n"
     ]
    }
   ],
   "source": [
    "two = deux = zwei = 2\n",
    "print(two)\n",
    "print(deux)\n",
    "print(zwei)"
   ]
  },
  {
   "cell_type": "code",
   "execution_count": 8,
   "id": "4d6d6353",
   "metadata": {},
   "outputs": [
    {
     "name": "stdout",
     "output_type": "stream",
     "text": [
      "5\n",
      "5\n",
      "20\n",
      "5\n"
     ]
    }
   ],
   "source": [
    "x = 5 \n",
    "print(x)\n",
    "y= x \n",
    "print(y)\n",
    "x = 20\n",
    "print(x)\n",
    "print(y)"
   ]
  },
  {
   "cell_type": "code",
   "execution_count": 9,
   "id": "32494580",
   "metadata": {},
   "outputs": [
    {
     "name": "stdout",
     "output_type": "stream",
     "text": [
      "[2, 4, 6]\n",
      "[2, 4, 6]\n"
     ]
    }
   ],
   "source": [
    "a = [2,4,6]\n",
    "b = a\n",
    "print(a)\n",
    "print(b)"
   ]
  },
  {
   "cell_type": "code",
   "execution_count": 10,
   "id": "eb6bcafb",
   "metadata": {},
   "outputs": [
    {
     "name": "stdout",
     "output_type": "stream",
     "text": [
      "[0, 4, 6]\n",
      "[0, 4, 6]\n"
     ]
    }
   ],
   "source": [
    "a[0] = 0\n",
    "print(a)\n",
    "print(b)"
   ]
  },
  {
   "cell_type": "code",
   "execution_count": 14,
   "id": "6b94d337",
   "metadata": {},
   "outputs": [
    {
     "data": {
      "text/plain": [
       "18"
      ]
     },
     "execution_count": 14,
     "metadata": {},
     "output_type": "execute_result"
    }
   ],
   "source": [
    "bool(0)\n",
    "bool(1000)\n",
    "#bool\n",
    "5\n",
    "0\n",
    "0x12"
   ]
  },
  {
   "cell_type": "code",
   "execution_count": 15,
   "id": "3e49528f",
   "metadata": {},
   "outputs": [],
   "source": [
    "million = 1_000_000"
   ]
  },
  {
   "cell_type": "code",
   "execution_count": 16,
   "id": "8b7c623e",
   "metadata": {},
   "outputs": [
    {
     "data": {
      "text/plain": [
       "1000000"
      ]
     },
     "execution_count": 16,
     "metadata": {},
     "output_type": "execute_result"
    }
   ],
   "source": [
    "million"
   ]
  },
  {
   "cell_type": "code",
   "execution_count": 17,
   "id": "b2e66999",
   "metadata": {},
   "outputs": [
    {
     "data": {
      "text/plain": [
       "1"
      ]
     },
     "execution_count": 17,
     "metadata": {},
     "output_type": "execute_result"
    }
   ],
   "source": [
    "5 + 7 \n",
    "5- 7\n",
    "5 * 4 \n",
    "# / carries out floating-point(decimal) division\n",
    "# // performs integer( truncating) division\n",
    "9/5\n",
    "9 // 5"
   ]
  },
  {
   "cell_type": "code",
   "execution_count": 19,
   "id": "18e08ad4",
   "metadata": {},
   "outputs": [
    {
     "name": "stdout",
     "output_type": "stream",
     "text": [
      "93\n",
      "96\n"
     ]
    }
   ],
   "source": [
    "a = 96 \n",
    "print(a -3 )\n",
    "print(a)\n",
    "# a ins a name that points to an integer object  -3 didn't assign the result bact to a "
   ]
  },
  {
   "cell_type": "code",
   "execution_count": 20,
   "id": "15ca65e5",
   "metadata": {},
   "outputs": [],
   "source": [
    "a = a -3 "
   ]
  },
  {
   "cell_type": "code",
   "execution_count": 21,
   "id": "d82af62c",
   "metadata": {},
   "outputs": [
    {
     "data": {
      "text/plain": [
       "93"
      ]
     },
     "execution_count": 21,
     "metadata": {},
     "output_type": "execute_result"
    }
   ],
   "source": [
    "a"
   ]
  },
  {
   "cell_type": "code",
   "execution_count": 22,
   "id": "a1678031",
   "metadata": {},
   "outputs": [
    {
     "name": "stdout",
     "output_type": "stream",
     "text": [
      "95\n"
     ]
    }
   ],
   "source": [
    "# how to assign \n",
    "\n",
    "a = 92 \n",
    "a += 3 \n",
    "print(a)\n",
    "# all of the division infront of the = is assign like this += /= *= --->a = a * 2 form"
   ]
  },
  {
   "cell_type": "code",
   "execution_count": 23,
   "id": "b7bef94d",
   "metadata": {},
   "outputs": [
    {
     "name": "stdout",
     "output_type": "stream",
     "text": [
      "1\n",
      "4\n"
     ]
    }
   ],
   "source": [
    "print(9 // 5 )\n",
    "print(9 % 5)\n"
   ]
  },
  {
   "cell_type": "code",
   "execution_count": 24,
   "id": "8f997827",
   "metadata": {},
   "outputs": [
    {
     "data": {
      "text/plain": [
       "(1, 4)"
      ]
     },
     "execution_count": 24,
     "metadata": {},
     "output_type": "execute_result"
    }
   ],
   "source": [
    "# get the both \n",
    "divmod(9,5)"
   ]
  },
  {
   "cell_type": "markdown",
   "id": "2e53e62e",
   "metadata": {},
   "source": [
    "#### bases\n",
    "- 0b or 0B for binary(base 2)\n",
    "- 0o or 0O for octal(base 8)\n",
    "- 0x or 0X for hex(base 16) "
   ]
  },
  {
   "cell_type": "code",
   "execution_count": 25,
   "id": "437028ea",
   "metadata": {},
   "outputs": [
    {
     "name": "stdout",
     "output_type": "stream",
     "text": [
      "2\n",
      "8\n",
      "16\n"
     ]
    }
   ],
   "source": [
    "print(0b10)\n",
    "print(0o10)\n",
    "print(0x10)"
   ]
  },
  {
   "cell_type": "code",
   "execution_count": 26,
   "id": "19d51ecd",
   "metadata": {},
   "outputs": [
    {
     "data": {
      "text/plain": [
       "'0b100101100'"
      ]
     },
     "execution_count": 26,
     "metadata": {},
     "output_type": "execute_result"
    }
   ],
   "source": [
    "value = 300\n",
    "bin(value)"
   ]
  },
  {
   "cell_type": "code",
   "execution_count": 27,
   "id": "da5583e3",
   "metadata": {},
   "outputs": [
    {
     "data": {
      "text/plain": [
       "'0o454'"
      ]
     },
     "execution_count": 27,
     "metadata": {},
     "output_type": "execute_result"
    }
   ],
   "source": [
    "oct(value)"
   ]
  },
  {
   "cell_type": "code",
   "execution_count": 28,
   "id": "2ac47968",
   "metadata": {},
   "outputs": [
    {
     "data": {
      "text/plain": [
       "'0x12c'"
      ]
     },
     "execution_count": 28,
     "metadata": {},
     "output_type": "execute_result"
    }
   ],
   "source": [
    "hex(value)"
   ]
  },
  {
   "cell_type": "code",
   "execution_count": 30,
   "id": "66b93a1c",
   "metadata": {},
   "outputs": [
    {
     "data": {
      "text/plain": [
       "'Ĭ'"
      ]
     },
     "execution_count": 30,
     "metadata": {},
     "output_type": "execute_result"
    }
   ],
   "source": [
    "chr(value)"
   ]
  },
  {
   "cell_type": "code",
   "execution_count": 31,
   "id": "d22605ef",
   "metadata": {},
   "outputs": [
    {
     "data": {
      "text/plain": [
       "'A'"
      ]
     },
     "execution_count": 31,
     "metadata": {},
     "output_type": "execute_result"
    }
   ],
   "source": [
    "chr(65)"
   ]
  },
  {
   "cell_type": "code",
   "execution_count": 32,
   "id": "77ac5b89",
   "metadata": {},
   "outputs": [
    {
     "data": {
      "text/plain": [
       "65"
      ]
     },
     "execution_count": 32,
     "metadata": {},
     "output_type": "execute_result"
    }
   ],
   "source": [
    "ord('A')"
   ]
  },
  {
   "cell_type": "markdown",
   "id": "1150c01c",
   "metadata": {},
   "source": [
    "type conversions"
   ]
  },
  {
   "cell_type": "code",
   "execution_count": 34,
   "id": "011971e3",
   "metadata": {},
   "outputs": [
    {
     "data": {
      "text/plain": [
       "1"
      ]
     },
     "execution_count": 34,
     "metadata": {},
     "output_type": "execute_result"
    }
   ],
   "source": [
    "int(True)"
   ]
  },
  {
   "cell_type": "markdown",
   "id": "e899b970",
   "metadata": {},
   "source": [
    "numbers \n",
    "- int\n",
    "- float\n"
   ]
  },
  {
   "cell_type": "code",
   "execution_count": 35,
   "id": "d6ae9a11",
   "metadata": {},
   "outputs": [
    {
     "name": "stdout",
     "output_type": "stream",
     "text": [
      "12\n",
      "12.0\n"
     ]
    }
   ],
   "source": [
    "print(int(12))\n",
    "print(float(12))"
   ]
  },
  {
   "cell_type": "code",
   "execution_count": 36,
   "id": "2a71f4b9",
   "metadata": {},
   "outputs": [
    {
     "data": {
      "text/plain": [
       "50.0"
      ]
     },
     "execution_count": 36,
     "metadata": {},
     "output_type": "execute_result"
    }
   ],
   "source": [
    "40+10.0"
   ]
  },
  {
   "cell_type": "code",
   "execution_count": 37,
   "id": "75ba30c7",
   "metadata": {},
   "outputs": [
    {
     "name": "stdout",
     "output_type": "stream",
     "text": [
      "0\n",
      "0.0\n",
      "1\n",
      "1.0\n"
     ]
    }
   ],
   "source": [
    "print(False +0)\n",
    "print(False +0.)\n",
    "print(True +0)\n",
    "print(True +0.)"
   ]
  },
  {
   "cell_type": "markdown",
   "id": "0926d321",
   "metadata": {},
   "source": [
    "|type | ex |\n",
    "|-------|------|\n",
    "|boolean | False|\n",
    "|null | None |\n",
    "|zero integer|0|\n",
    "|zero float|0.0|\n",
    "|empty string|''|\n",
    "|empty list|[]|\n",
    "|empty tuple|()|\n",
    "|empty dict|{}|\n",
    "|empty set|set()|\n"
   ]
  },
  {
   "cell_type": "code",
   "execution_count": 38,
   "id": "243e82c2",
   "metadata": {},
   "outputs": [
    {
     "name": "stdout",
     "output_type": "stream",
     "text": [
      "it is empty\n"
     ]
    }
   ],
   "source": [
    "some_list = []\n",
    "if some_list:\n",
    "    print(\"there is something in here\")\n",
    "else:\n",
    "    print(\"it is empty\")"
   ]
  },
  {
   "cell_type": "code",
   "execution_count": null,
   "id": "6e55423a",
   "metadata": {},
   "outputs": [],
   "source": []
  },
  {
   "cell_type": "markdown",
   "id": "90ff4899",
   "metadata": {},
   "source": [
    "practice \n",
    "\n",
    "1. make a function to get the infomation of the input "
   ]
  },
  {
   "cell_type": "code",
   "execution_count": 29,
   "id": "e2c209c5",
   "metadata": {},
   "outputs": [],
   "source": [
    "def info_number(x):\n",
    "    \n",
    "    return TRUE"
   ]
  },
  {
   "cell_type": "code",
   "execution_count": null,
   "id": "bcc14184",
   "metadata": {},
   "outputs": [],
   "source": []
  }
 ],
 "metadata": {
  "kernelspec": {
   "display_name": "Python 3",
   "language": "python",
   "name": "python3"
  },
  "language_info": {
   "codemirror_mode": {
    "name": "ipython",
    "version": 3
   },
   "file_extension": ".py",
   "mimetype": "text/x-python",
   "name": "python",
   "nbconvert_exporter": "python",
   "pygments_lexer": "ipython3",
   "version": "3.8.5"
  }
 },
 "nbformat": 4,
 "nbformat_minor": 5
}
